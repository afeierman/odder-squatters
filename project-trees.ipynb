{
 "cells": [
  {
   "cell_type": "code",
   "execution_count": 1,
   "metadata": {
    "collapsed": true
   },
   "outputs": [],
   "source": [
    "import numpy as np\n",
    "import pandas as pd\n",
    "import matplotlib.pyplot as plt\n",
    "%matplotlib inline\n",
    "from datetime import datetime"
   ]
  },
  {
   "cell_type": "code",
   "execution_count": 2,
   "metadata": {
    "collapsed": false
   },
   "outputs": [],
   "source": [
    "train = pd.read_json(\"train.json\")"
   ]
  },
  {
   "cell_type": "code",
   "execution_count": 3,
   "metadata": {
    "collapsed": false
   },
   "outputs": [],
   "source": [
    "train[\"num_photos\"] = train[\"photos\"].apply(len)\n",
    "train[\"num_features\"] = train[\"features\"].apply(len)\n",
    "train[\"num_description_words\"] = train[\"description\"].apply(lambda x: len(x.split(\" \")))\n",
    "train[\"created\"] = pd.to_datetime(train[\"created\"])\n",
    "train[\"created_year\"] = train[\"created\"].dt.year\n",
    "train[\"created_month\"] = train[\"created\"].dt.month\n",
    "train[\"created_day\"] = train[\"created\"].dt.day\n",
    "train[\"created_hour\"] = train['created'].dt.hour"
   ]
  },
  {
   "cell_type": "code",
   "execution_count": 4,
   "metadata": {
    "collapsed": true
   },
   "outputs": [],
   "source": [
    "train['no_fee'] = [1 if (\"No Fee\" in x) else(0) for x in train.features]"
   ]
  },
  {
   "cell_type": "code",
   "execution_count": 5,
   "metadata": {
    "collapsed": true
   },
   "outputs": [],
   "source": [
    "X = train.loc[:, train.columns != 'interest_level']\n",
    "y = train[\"interest_level\"]"
   ]
  },
  {
   "cell_type": "code",
   "execution_count": 6,
   "metadata": {
    "collapsed": false
   },
   "outputs": [],
   "source": [
    "from sklearn import preprocessing\n",
    "lbl = preprocessing.LabelEncoder()\n",
    "lbl.fit(list(train['manager_id'].values))\n",
    "\n",
    "train['manager_id'] = lbl.transform(list(train['manager_id'].values))\n",
    "\n",
    "temp = pd.concat([train.manager_id,pd.get_dummies(train.interest_level)], axis = 1).groupby('manager_id').mean()\n",
    "temp.columns = ['high_frac','low_frac', 'medium_frac']\n",
    "temp['count'] = train.groupby('manager_id').count().iloc[:,1]\n",
    "temp['manager_skill'] = temp['medium_frac'] + 2 * temp['high_frac'] + 1.5 * temp['high_frac']*temp['medium_frac']\n",
    "# get ixes for unranked managers...\n",
    "unranked_managers_ixes = temp['count']<20\n",
    "# ... and ranked ones\n",
    "ranked_managers_ixes = ~unranked_managers_ixes\n",
    "mean_values = temp.loc[ranked_managers_ixes, ['high_frac','low_frac', 'medium_frac','manager_skill']].mean()\n",
    "temp.loc[unranked_managers_ixes,['high_frac','low_frac', 'medium_frac','manager_skill']] = mean_values.values\n",
    "train = train.merge(temp.reset_index(),how='left', left_on='manager_id', right_on='manager_id')"
   ]
  },
  {
   "cell_type": "code",
   "execution_count": 33,
   "metadata": {
    "collapsed": false
   },
   "outputs": [],
   "source": [
    "num_feats = [\"bedrooms\", \"latitude\", \"longitude\", \"price\", \"no_fee\", \"count\",\n",
    "             \"num_photos\", \"num_features\", 'created_hour', 'manager_skill']\n",
    "\n",
    "num_feats2 = [\"bedrooms\", \"latitude\", \"longitude\", \"price\", \"no_fee\",\n",
    "             \"num_photos\", \"num_features\", 'created_hour', 'manager_skill']\n",
    "\n",
    "num_feats3 = [\"bedrooms\", \"latitude\", \"longitude\", \"price\", \"no_fee\", \"count\",\n",
    "             \"num_photos\", \"num_features\", 'created_hour', 'manager_skill']\n",
    "\n",
    "num_feats4 = [\"bedrooms\", \"latitude\", \"longitude\", \"price\", \"no_fee\", \"count\",\n",
    "             \"num_photos\", \"num_features\", 'created_hour', 'manager_skill']\n",
    "\n",
    "num_feats5 = [\"bedrooms\", \"latitude\", \"longitude\", \"price\", \"num_photos\", \"num_features\",\n",
    "              'created_hour', 'num_description_words', 'created_day']"
   ]
  },
  {
   "cell_type": "code",
   "execution_count": 34,
   "metadata": {
    "collapsed": false
   },
   "outputs": [
    {
     "data": {
      "text/plain": [
       "(49352, 10)"
      ]
     },
     "execution_count": 34,
     "metadata": {},
     "output_type": "execute_result"
    }
   ],
   "source": [
    "X_df = train[num_feats]\n",
    "X_mat = X_df.as_matrix()\n",
    "X_mat.shape\n",
    "\n",
    "X_df2 = train[num_feats2]\n",
    "X_mat2 = X_df2.as_matrix()\n",
    "\n",
    "X_df3 = train[num_feats3]\n",
    "X_mat3 = X_df3.as_matrix()\n",
    "\n",
    "X_df4 = train[num_feats4]\n",
    "X_mat4 = X_df4.as_matrix()\n",
    "\n",
    "X_df5 = train[num_feats5]\n",
    "X_mat5 = X_df5.as_matrix()\n",
    "X_mat.shape"
   ]
  },
  {
   "cell_type": "code",
   "execution_count": 35,
   "metadata": {
    "collapsed": false
   },
   "outputs": [
    {
     "data": {
      "text/plain": [
       "(49352,)"
      ]
     },
     "execution_count": 35,
     "metadata": {},
     "output_type": "execute_result"
    }
   ],
   "source": [
    "Y_df = pd.DataFrame(y)\n",
    "Y_df['interest'] = [0 if x=='low' else(1 if x=='medium' else(2)) for x in Y_df.interest_level]\n",
    "Y_mat = Y_df.interest.as_matrix()\n",
    "Y_mat.shape"
   ]
  },
  {
   "cell_type": "markdown",
   "metadata": {
    "collapsed": true
   },
   "source": [
    "### Random Forest Feature Selection"
   ]
  },
  {
   "cell_type": "code",
   "execution_count": 10,
   "metadata": {
    "collapsed": false
   },
   "outputs": [],
   "source": [
    "from sklearn import tree\n",
    "\n",
    "from sklearn.model_selection import train_test_split\n",
    "from sklearn import ensemble\n",
    "from sklearn.metrics import log_loss\n",
    "\n",
    "rf_feat_select = ensemble.RandomForestClassifier(n_estimators = 800, n_jobs = 3)\n"
   ]
  },
  {
   "cell_type": "code",
   "execution_count": 21,
   "metadata": {
    "collapsed": false
   },
   "outputs": [
    {
     "data": {
      "text/plain": [
       "0.9905171016372184"
      ]
     },
     "execution_count": 21,
     "metadata": {},
     "output_type": "execute_result"
    }
   ],
   "source": [
    "X_train, X_val, y_train, y_val = train_test_split(X_mat, Y_mat, test_size=0.25)\n",
    "rf_feat_select.fit(X_train, y_train)\n",
    "rf_feat_select.score(X_train, y_train)"
   ]
  },
  {
   "cell_type": "code",
   "execution_count": 22,
   "metadata": {
    "collapsed": false
   },
   "outputs": [
    {
     "data": {
      "text/plain": [
       "0.58423732939392781"
      ]
     },
     "execution_count": 22,
     "metadata": {},
     "output_type": "execute_result"
    }
   ],
   "source": [
    "y_val_pred = rf_feat_select.predict_proba(X_val)\n",
    "log_loss(y_val, y_val_pred)"
   ]
  },
  {
   "cell_type": "code",
   "execution_count": 23,
   "metadata": {
    "collapsed": false
   },
   "outputs": [
    {
     "data": {
      "text/plain": [
       "0.99054411844167067"
      ]
     },
     "execution_count": 23,
     "metadata": {},
     "output_type": "execute_result"
    }
   ],
   "source": [
    "X_train, X_val, y_train, y_val = train_test_split(X_mat2, Y_mat, test_size=0.25)\n",
    "rf_feat_select.fit(X_train, y_train)\n",
    "rf_feat_select.score(X_train, y_train)"
   ]
  },
  {
   "cell_type": "code",
   "execution_count": 24,
   "metadata": {
    "collapsed": false
   },
   "outputs": [
    {
     "data": {
      "text/plain": [
       "0.59314004539544563"
      ]
     },
     "execution_count": 24,
     "metadata": {},
     "output_type": "execute_result"
    }
   ],
   "source": [
    "y_val_pred = rf_feat_select.predict_proba(X_val)\n",
    "log_loss(y_val, y_val_pred)"
   ]
  },
  {
   "cell_type": "code",
   "execution_count": 25,
   "metadata": {
    "collapsed": false
   },
   "outputs": [
    {
     "data": {
      "text/plain": [
       "0.9906792024639326"
      ]
     },
     "execution_count": 25,
     "metadata": {},
     "output_type": "execute_result"
    }
   ],
   "source": [
    "X_train, X_val, y_train, y_val = train_test_split(X_mat3, Y_mat, test_size=0.25)\n",
    "rf_feat_select.fit(X_train, y_train)\n",
    "rf_feat_select.score(X_train, y_train)"
   ]
  },
  {
   "cell_type": "code",
   "execution_count": 26,
   "metadata": {
    "collapsed": false
   },
   "outputs": [
    {
     "data": {
      "text/plain": [
       "0.58702213779778833"
      ]
     },
     "execution_count": 26,
     "metadata": {},
     "output_type": "execute_result"
    }
   ],
   "source": [
    "y_val_pred = rf_feat_select.predict_proba(X_val)\n",
    "log_loss(y_val, y_val_pred)"
   ]
  },
  {
   "cell_type": "code",
   "execution_count": 27,
   "metadata": {
    "collapsed": false
   },
   "outputs": [
    {
     "data": {
      "text/plain": [
       "0.99157075701086073"
      ]
     },
     "execution_count": 27,
     "metadata": {},
     "output_type": "execute_result"
    }
   ],
   "source": [
    "X_train, X_val, y_train, y_val = train_test_split(X_mat4, Y_mat, test_size=0.25)\n",
    "rf_feat_select.fit(X_train, y_train)\n",
    "rf_feat_select.score(X_train, y_train)"
   ]
  },
  {
   "cell_type": "code",
   "execution_count": 28,
   "metadata": {
    "collapsed": false
   },
   "outputs": [
    {
     "data": {
      "text/plain": [
       "0.5947006633860864"
      ]
     },
     "execution_count": 28,
     "metadata": {},
     "output_type": "execute_result"
    }
   ],
   "source": [
    "y_val_pred = rf_feat_select.predict_proba(X_val)\n",
    "log_loss(y_val, y_val_pred)"
   ]
  },
  {
   "cell_type": "code",
   "execution_count": 29,
   "metadata": {
    "collapsed": false
   },
   "outputs": [
    {
     "data": {
      "text/plain": [
       "0.99910844545307176"
      ]
     },
     "execution_count": 29,
     "metadata": {},
     "output_type": "execute_result"
    }
   ],
   "source": [
    "X_train, X_val, y_train, y_val = train_test_split(X_mat5, Y_mat, test_size=0.25)\n",
    "rf_feat_select.fit(X_train, y_train)\n",
    "rf_feat_select.score(X_train, y_train)"
   ]
  },
  {
   "cell_type": "code",
   "execution_count": 30,
   "metadata": {
    "collapsed": false
   },
   "outputs": [
    {
     "data": {
      "text/plain": [
       "0.61662342667244874"
      ]
     },
     "execution_count": 30,
     "metadata": {},
     "output_type": "execute_result"
    }
   ],
   "source": [
    "y_val_pred = rf_feat_select.predict_proba(X_val)\n",
    "log_loss(y_val, y_val_pred)"
   ]
  },
  {
   "cell_type": "code",
   "execution_count": 31,
   "metadata": {
    "collapsed": false
   },
   "outputs": [
    {
     "data": {
      "text/plain": [
       "array([ 0.04658681,  0.13442586,  0.13280564,  0.18618311,  0.08251175,\n",
       "        0.08393405,  0.08781776,  0.13375228,  0.11198275])"
      ]
     },
     "execution_count": 31,
     "metadata": {},
     "output_type": "execute_result"
    }
   ],
   "source": [
    "rf_feat_select.feature_importances_"
   ]
  },
  {
   "cell_type": "code",
   "execution_count": 32,
   "metadata": {
    "collapsed": false
   },
   "outputs": [
    {
     "data": {
      "text/plain": [
       "<matplotlib.axes._subplots.AxesSubplot at 0x7ff4452cb690>"
      ]
     },
     "execution_count": 32,
     "metadata": {},
     "output_type": "execute_result"
    },
    {
     "data": {
      "image/png": "[encoded data removed]",
      "text/plain": [
       "<matplotlib.figure.Figure at 0x7ff44529df10>"
      ]
     },
     "metadata": {},
     "output_type": "display_data"
    }
   ],
   "source": [
    "pd.Series(index = num_feats5, data = rf_feat_select.feature_importances_).sort_values().plot(kind = 'bar')"
   ]
  },
  {
   "cell_type": "code",
   "execution_count": 36,
   "metadata": {
    "collapsed": false
   },
   "outputs": [
    {
     "data": {
      "text/plain": [
       "RandomForestClassifier(bootstrap=True, class_weight=None, criterion='gini',\n",
       "            max_depth=None, max_features='auto', max_leaf_nodes=None,\n",
       "            min_impurity_split=1e-07, min_samples_leaf=1,\n",
       "            min_samples_split=2, min_weight_fraction_leaf=0.0,\n",
       "            n_estimators=650, n_jobs=3, oob_score=False, random_state=None,\n",
       "            verbose=0, warm_start=False)"
      ]
     },
     "execution_count": 36,
     "metadata": {},
     "output_type": "execute_result"
    }
   ],
   "source": [
    "from sklearn import ensemble\n",
    "from sklearn.metrics import log_loss\n",
    "rf_model = ensemble.RandomForestClassifier(n_estimators = 650, n_jobs = 3)\n",
    "rf_model.fit(X_mat, Y_mat)"
   ]
  },
  {
   "cell_type": "code",
   "execution_count": 37,
   "metadata": {
    "collapsed": false
   },
   "outputs": [
    {
     "name": "stderr",
     "output_type": "stream",
     "text": [
      "/home/andrew/anaconda2/lib/python2.7/site-packages/sklearn/cross_validation.py:44: DeprecationWarning: This module was deprecated in version 0.18 in favor of the model_selection module into which all the refactored classes and functions are moved. Also note that the interface of the new CV iterators are different from that of this module. This module will be removed in 0.20.\n",
      "  \"This module will be removed in 0.20.\", DeprecationWarning)\n",
      "/home/andrew/anaconda2/lib/python2.7/site-packages/sklearn/grid_search.py:43: DeprecationWarning: This module was deprecated in version 0.18 in favor of the model_selection module into which all the refactored classes and functions are moved. This module will be removed in 0.20.\n",
      "  DeprecationWarning)\n"
     ]
    }
   ],
   "source": [
    "import sklearn.grid_search as gs\n",
    "grid_para_rf = [{'max_features':[4], 'min_samples_split': [13,15,17], 'min_samples_leaf': [1,2], \n",
    "                'criterion': ['gini', 'entropy']}]"
   ]
  },
  {
   "cell_type": "code",
   "execution_count": 38,
   "metadata": {
    "collapsed": false
   },
   "outputs": [],
   "source": [
    "grid_search_rf = gs.GridSearchCV(rf_feat_select, grid_para_rf, scoring = 'accuracy', cv=3)"
   ]
  },
  {
   "cell_type": "code",
   "execution_count": 39,
   "metadata": {
    "collapsed": false
   },
   "outputs": [
    {
     "name": "stderr",
     "output_type": "stream",
     "text": [
      "ERROR:root:Internal Python error in the inspect module.\n",
      "Below is the traceback from this internal error.\n",
      "\n"
     ]
    },
    {
     "name": "stdout",
     "output_type": "stream",
     "text": [
      "Traceback (most recent call last):\n",
      "  File \"/home/andrew/anaconda2/lib/python2.7/site-packages/IPython/core/ultratb.py\", line 1132, in get_records\n",
      "    return _fixed_getinnerframes(etb, number_of_lines_of_context, tb_offset)\n",
      "  File \"/home/andrew/anaconda2/lib/python2.7/site-packages/IPython/core/ultratb.py\", line 313, in wrapped\n",
      "    return f(*args, **kwargs)\n",
      "  File \"/home/andrew/anaconda2/lib/python2.7/site-packages/IPython/core/ultratb.py\", line 358, in _fixed_getinnerframes\n",
      "    records = fix_frame_records_filenames(inspect.getinnerframes(etb, context))\n",
      "  File \"/home/andrew/anaconda2/lib/python2.7/inspect.py\", line 1048, in getinnerframes\n",
      "    framelist.append((tb.tb_frame,) + getframeinfo(tb, context))\n",
      "  File \"/home/andrew/anaconda2/lib/python2.7/inspect.py\", line 1008, in getframeinfo\n",
      "    filename = getsourcefile(frame) or getfile(frame)\n",
      "  File \"/home/andrew/anaconda2/lib/python2.7/inspect.py\", line 453, in getsourcefile\n",
      "    if hasattr(getmodule(object, filename), '__loader__'):\n",
      "  File \"/home/andrew/anaconda2/lib/python2.7/inspect.py\", line 499, in getmodule\n",
      "    os.path.realpath(f)] = module.__name__\n",
      "  File \"/home/andrew/anaconda2/lib/python2.7/posixpath.py\", line 375, in realpath\n",
      "    path, ok = _joinrealpath('', filename, {})\n",
      "  File \"/home/andrew/anaconda2/lib/python2.7/posixpath.py\", line 387, in _joinrealpath\n",
      "    if not name or name == curdir:\n",
      "KeyboardInterrupt\n"
     ]
    },
    {
     "ename": "IndexError",
     "evalue": "string index out of range",
     "output_type": "error",
     "traceback": [
      "\u001b[0;31m---------------------------------------------------------------------------\u001b[0m",
      "\u001b[0;31mIndexError\u001b[0m                                Traceback (most recent call last)",
      "\u001b[0;32m/home/andrew/anaconda2/lib/python2.7/site-packages/IPython/core/interactiveshell.pyc\u001b[0m in \u001b[0;36mrun_code\u001b[0;34m(self, code_obj, result)\u001b[0m\n\u001b[1;32m   2896\u001b[0m             \u001b[0;32mif\u001b[0m \u001b[0mresult\u001b[0m \u001b[0;32mis\u001b[0m \u001b[0;32mnot\u001b[0m \u001b[0mNone\u001b[0m\u001b[0;34m:\u001b[0m\u001b[0;34m\u001b[0m\u001b[0m\n\u001b[1;32m   2897\u001b[0m                 \u001b[0mresult\u001b[0m\u001b[0;34m.\u001b[0m\u001b[0merror_in_exec\u001b[0m \u001b[0;34m=\u001b[0m \u001b[0msys\u001b[0m\u001b[0;34m.\u001b[0m\u001b[0mexc_info\u001b[0m\u001b[0;34m(\u001b[0m\u001b[0;34m)\u001b[0m\u001b[0;34m[\u001b[0m\u001b[0;36m1\u001b[0m\u001b[0;34m]\u001b[0m\u001b[0;34m\u001b[0m\u001b[0m\n\u001b[0;32m-> 2898\u001b[0;31m             \u001b[0mself\u001b[0m\u001b[0;34m.\u001b[0m\u001b[0mshowtraceback\u001b[0m\u001b[0;34m(\u001b[0m\u001b[0;34m)\u001b[0m\u001b[0;34m\u001b[0m\u001b[0m\n\u001b[0m\u001b[1;32m   2899\u001b[0m         \u001b[0;32melse\u001b[0m\u001b[0;34m:\u001b[0m\u001b[0;34m\u001b[0m\u001b[0m\n\u001b[1;32m   2900\u001b[0m             \u001b[0moutflag\u001b[0m \u001b[0;34m=\u001b[0m \u001b[0;36m0\u001b[0m\u001b[0;34m\u001b[0m\u001b[0m\n",
      "\u001b[0;32m/home/andrew/anaconda2/lib/python2.7/site-packages/IPython/core/interactiveshell.pyc\u001b[0m in \u001b[0;36mshowtraceback\u001b[0;34m(self, exc_tuple, filename, tb_offset, exception_only)\u001b[0m\n\u001b[1;32m   1822\u001b[0m                     \u001b[0;32mexcept\u001b[0m \u001b[0mException\u001b[0m\u001b[0;34m:\u001b[0m\u001b[0;34m\u001b[0m\u001b[0m\n\u001b[1;32m   1823\u001b[0m                         stb = self.InteractiveTB.structured_traceback(etype,\n\u001b[0;32m-> 1824\u001b[0;31m                                             value, tb, tb_offset=tb_offset)\n\u001b[0m\u001b[1;32m   1825\u001b[0m \u001b[0;34m\u001b[0m\u001b[0m\n\u001b[1;32m   1826\u001b[0m                     \u001b[0mself\u001b[0m\u001b[0;34m.\u001b[0m\u001b[0m_showtraceback\u001b[0m\u001b[0;34m(\u001b[0m\u001b[0metype\u001b[0m\u001b[0;34m,\u001b[0m \u001b[0mvalue\u001b[0m\u001b[0;34m,\u001b[0m \u001b[0mstb\u001b[0m\u001b[0;34m)\u001b[0m\u001b[0;34m\u001b[0m\u001b[0m\n",
      "\u001b[0;32m/home/andrew/anaconda2/lib/python2.7/site-packages/IPython/core/ultratb.pyc\u001b[0m in \u001b[0;36mstructured_traceback\u001b[0;34m(self, etype, value, tb, tb_offset, number_of_lines_of_context)\u001b[0m\n\u001b[1;32m   1404\u001b[0m         \u001b[0mself\u001b[0m\u001b[0;34m.\u001b[0m\u001b[0mtb\u001b[0m \u001b[0;34m=\u001b[0m \u001b[0mtb\u001b[0m\u001b[0;34m\u001b[0m\u001b[0m\n\u001b[1;32m   1405\u001b[0m         return FormattedTB.structured_traceback(\n\u001b[0;32m-> 1406\u001b[0;31m             self, etype, value, tb, tb_offset, number_of_lines_of_context)\n\u001b[0m\u001b[1;32m   1407\u001b[0m \u001b[0;34m\u001b[0m\u001b[0m\n\u001b[1;32m   1408\u001b[0m \u001b[0;34m\u001b[0m\u001b[0m\n",
      "\u001b[0;32m/home/andrew/anaconda2/lib/python2.7/site-packages/IPython/core/ultratb.pyc\u001b[0m in \u001b[0;36mstructured_traceback\u001b[0;34m(self, etype, value, tb, tb_offset, number_of_lines_of_context)\u001b[0m\n\u001b[1;32m   1312\u001b[0m             \u001b[0;31m# Verbose modes need a full traceback\u001b[0m\u001b[0;34m\u001b[0m\u001b[0;34m\u001b[0m\u001b[0m\n\u001b[1;32m   1313\u001b[0m             return VerboseTB.structured_traceback(\n\u001b[0;32m-> 1314\u001b[0;31m                 \u001b[0mself\u001b[0m\u001b[0;34m,\u001b[0m \u001b[0metype\u001b[0m\u001b[0;34m,\u001b[0m \u001b[0mvalue\u001b[0m\u001b[0;34m,\u001b[0m \u001b[0mtb\u001b[0m\u001b[0;34m,\u001b[0m \u001b[0mtb_offset\u001b[0m\u001b[0;34m,\u001b[0m \u001b[0mnumber_of_lines_of_context\u001b[0m\u001b[0;34m\u001b[0m\u001b[0m\n\u001b[0m\u001b[1;32m   1315\u001b[0m             )\n\u001b[1;32m   1316\u001b[0m         \u001b[0;32melse\u001b[0m\u001b[0;34m:\u001b[0m\u001b[0;34m\u001b[0m\u001b[0m\n",
      "\u001b[0;32m/home/andrew/anaconda2/lib/python2.7/site-packages/IPython/core/ultratb.pyc\u001b[0m in \u001b[0;36mstructured_traceback\u001b[0;34m(self, etype, evalue, etb, tb_offset, number_of_lines_of_context)\u001b[0m\n\u001b[1;32m   1196\u001b[0m                 \u001b[0mstructured_traceback_parts\u001b[0m \u001b[0;34m+=\u001b[0m \u001b[0mformatted_exception\u001b[0m\u001b[0;34m\u001b[0m\u001b[0m\n\u001b[1;32m   1197\u001b[0m         \u001b[0;32melse\u001b[0m\u001b[0;34m:\u001b[0m\u001b[0;34m\u001b[0m\u001b[0m\n\u001b[0;32m-> 1198\u001b[0;31m             \u001b[0mstructured_traceback_parts\u001b[0m \u001b[0;34m+=\u001b[0m \u001b[0mformatted_exception\u001b[0m\u001b[0;34m[\u001b[0m\u001b[0;36m0\u001b[0m\u001b[0;34m]\u001b[0m\u001b[0;34m\u001b[0m\u001b[0m\n\u001b[0m\u001b[1;32m   1199\u001b[0m \u001b[0;34m\u001b[0m\u001b[0m\n\u001b[1;32m   1200\u001b[0m         \u001b[0;32mreturn\u001b[0m \u001b[0mstructured_traceback_parts\u001b[0m\u001b[0;34m\u001b[0m\u001b[0m\n",
      "\u001b[0;31mIndexError\u001b[0m: string index out of range"
     ]
    }
   ],
   "source": [
    "grid_search_rf.fit(X_mat, Y_mat)"
   ]
  },
  {
   "cell_type": "code",
   "execution_count": 216,
   "metadata": {
    "collapsed": false
   },
   "outputs": [
    {
     "data": {
      "text/plain": [
       "RandomForestClassifier(bootstrap=True, class_weight=None, criterion='entropy',\n",
       "            max_depth=None, max_features=4, max_leaf_nodes=None,\n",
       "            min_impurity_split=1e-07, min_samples_leaf=1,\n",
       "            min_samples_split=15, min_weight_fraction_leaf=0.0,\n",
       "            n_estimators=700, n_jobs=2, oob_score=False, random_state=None,\n",
       "            verbose=0, warm_start=False)"
      ]
     },
     "execution_count": 216,
     "metadata": {},
     "output_type": "execute_result"
    }
   ],
   "source": [
    "grid_search_rf.best_estimator_"
   ]
  },
  {
   "cell_type": "code",
   "execution_count": 217,
   "metadata": {
    "collapsed": false
   },
   "outputs": [
    {
     "data": {
      "text/plain": [
       "{'criterion': 'entropy',\n",
       " 'max_features': 4,\n",
       " 'min_samples_leaf': 1,\n",
       " 'min_samples_split': 15}"
      ]
     },
     "execution_count": 217,
     "metadata": {},
     "output_type": "execute_result"
    }
   ],
   "source": [
    "grid_search_rf.best_params_"
   ]
  },
  {
   "cell_type": "code",
   "execution_count": 218,
   "metadata": {
    "collapsed": false
   },
   "outputs": [
    {
     "data": {
      "text/plain": [
       "0.7442859458583239"
      ]
     },
     "execution_count": 218,
     "metadata": {},
     "output_type": "execute_result"
    }
   ],
   "source": [
    "grid_search_rf.best_score_"
   ]
  },
  {
   "cell_type": "code",
   "execution_count": 219,
   "metadata": {
    "collapsed": false
   },
   "outputs": [
    {
     "data": {
      "text/plain": [
       "[mean: 0.74305, std: 0.00207, params: {'max_features': 3, 'min_samples_split': 10, 'criterion': 'gini', 'min_samples_leaf': 1},\n",
       " mean: 0.74356, std: 0.00276, params: {'max_features': 3, 'min_samples_split': 15, 'criterion': 'gini', 'min_samples_leaf': 1},\n",
       " mean: 0.74275, std: 0.00289, params: {'max_features': 3, 'min_samples_split': 20, 'criterion': 'gini', 'min_samples_leaf': 1},\n",
       " mean: 0.74137, std: 0.00304, params: {'max_features': 3, 'min_samples_split': 25, 'criterion': 'gini', 'min_samples_leaf': 1},\n",
       " mean: 0.73995, std: 0.00281, params: {'max_features': 3, 'min_samples_split': 10, 'criterion': 'gini', 'min_samples_leaf': 10},\n",
       " mean: 0.73983, std: 0.00322, params: {'max_features': 3, 'min_samples_split': 15, 'criterion': 'gini', 'min_samples_leaf': 10},\n",
       " mean: 0.74019, std: 0.00313, params: {'max_features': 3, 'min_samples_split': 20, 'criterion': 'gini', 'min_samples_leaf': 10},\n",
       " mean: 0.73938, std: 0.00317, params: {'max_features': 3, 'min_samples_split': 25, 'criterion': 'gini', 'min_samples_leaf': 10},\n",
       " mean: 0.73458, std: 0.00320, params: {'max_features': 3, 'min_samples_split': 10, 'criterion': 'gini', 'min_samples_leaf': 25},\n",
       " mean: 0.73454, std: 0.00333, params: {'max_features': 3, 'min_samples_split': 15, 'criterion': 'gini', 'min_samples_leaf': 25},\n",
       " mean: 0.73497, std: 0.00332, params: {'max_features': 3, 'min_samples_split': 20, 'criterion': 'gini', 'min_samples_leaf': 25},\n",
       " mean: 0.73490, std: 0.00393, params: {'max_features': 3, 'min_samples_split': 25, 'criterion': 'gini', 'min_samples_leaf': 25},\n",
       " mean: 0.73033, std: 0.00329, params: {'max_features': 3, 'min_samples_split': 10, 'criterion': 'gini', 'min_samples_leaf': 50},\n",
       " mean: 0.73028, std: 0.00288, params: {'max_features': 3, 'min_samples_split': 15, 'criterion': 'gini', 'min_samples_leaf': 50},\n",
       " mean: 0.73041, std: 0.00233, params: {'max_features': 3, 'min_samples_split': 20, 'criterion': 'gini', 'min_samples_leaf': 50},\n",
       " mean: 0.73089, std: 0.00342, params: {'max_features': 3, 'min_samples_split': 25, 'criterion': 'gini', 'min_samples_leaf': 50},\n",
       " mean: 0.74198, std: 0.00324, params: {'max_features': 4, 'min_samples_split': 10, 'criterion': 'gini', 'min_samples_leaf': 1},\n",
       " mean: 0.74254, std: 0.00289, params: {'max_features': 4, 'min_samples_split': 15, 'criterion': 'gini', 'min_samples_leaf': 1},\n",
       " mean: 0.74356, std: 0.00338, params: {'max_features': 4, 'min_samples_split': 20, 'criterion': 'gini', 'min_samples_leaf': 1},\n",
       " mean: 0.74248, std: 0.00338, params: {'max_features': 4, 'min_samples_split': 25, 'criterion': 'gini', 'min_samples_leaf': 1},\n",
       " mean: 0.74100, std: 0.00334, params: {'max_features': 4, 'min_samples_split': 10, 'criterion': 'gini', 'min_samples_leaf': 10},\n",
       " mean: 0.74082, std: 0.00390, params: {'max_features': 4, 'min_samples_split': 15, 'criterion': 'gini', 'min_samples_leaf': 10},\n",
       " mean: 0.74048, std: 0.00341, params: {'max_features': 4, 'min_samples_split': 20, 'criterion': 'gini', 'min_samples_leaf': 10},\n",
       " mean: 0.74094, std: 0.00327, params: {'max_features': 4, 'min_samples_split': 25, 'criterion': 'gini', 'min_samples_leaf': 10},\n",
       " mean: 0.73612, std: 0.00271, params: {'max_features': 4, 'min_samples_split': 10, 'criterion': 'gini', 'min_samples_leaf': 25},\n",
       " mean: 0.73620, std: 0.00363, params: {'max_features': 4, 'min_samples_split': 15, 'criterion': 'gini', 'min_samples_leaf': 25},\n",
       " mean: 0.73646, std: 0.00347, params: {'max_features': 4, 'min_samples_split': 20, 'criterion': 'gini', 'min_samples_leaf': 25},\n",
       " mean: 0.73592, std: 0.00316, params: {'max_features': 4, 'min_samples_split': 25, 'criterion': 'gini', 'min_samples_leaf': 25},\n",
       " mean: 0.73209, std: 0.00332, params: {'max_features': 4, 'min_samples_split': 10, 'criterion': 'gini', 'min_samples_leaf': 50},\n",
       " mean: 0.73215, std: 0.00335, params: {'max_features': 4, 'min_samples_split': 15, 'criterion': 'gini', 'min_samples_leaf': 50},\n",
       " mean: 0.73160, std: 0.00302, params: {'max_features': 4, 'min_samples_split': 20, 'criterion': 'gini', 'min_samples_leaf': 50},\n",
       " mean: 0.73162, std: 0.00269, params: {'max_features': 4, 'min_samples_split': 25, 'criterion': 'gini', 'min_samples_leaf': 50},\n",
       " mean: 0.74098, std: 0.00310, params: {'max_features': 5, 'min_samples_split': 10, 'criterion': 'gini', 'min_samples_leaf': 1},\n",
       " mean: 0.74202, std: 0.00294, params: {'max_features': 5, 'min_samples_split': 15, 'criterion': 'gini', 'min_samples_leaf': 1},\n",
       " mean: 0.74307, std: 0.00284, params: {'max_features': 5, 'min_samples_split': 20, 'criterion': 'gini', 'min_samples_leaf': 1},\n",
       " mean: 0.74254, std: 0.00365, params: {'max_features': 5, 'min_samples_split': 25, 'criterion': 'gini', 'min_samples_leaf': 1},\n",
       " mean: 0.74137, std: 0.00403, params: {'max_features': 5, 'min_samples_split': 10, 'criterion': 'gini', 'min_samples_leaf': 10},\n",
       " mean: 0.74155, std: 0.00450, params: {'max_features': 5, 'min_samples_split': 15, 'criterion': 'gini', 'min_samples_leaf': 10},\n",
       " mean: 0.74177, std: 0.00384, params: {'max_features': 5, 'min_samples_split': 20, 'criterion': 'gini', 'min_samples_leaf': 10},\n",
       " mean: 0.74100, std: 0.00375, params: {'max_features': 5, 'min_samples_split': 25, 'criterion': 'gini', 'min_samples_leaf': 10},\n",
       " mean: 0.73646, std: 0.00342, params: {'max_features': 5, 'min_samples_split': 10, 'criterion': 'gini', 'min_samples_leaf': 25},\n",
       " mean: 0.73616, std: 0.00349, params: {'max_features': 5, 'min_samples_split': 15, 'criterion': 'gini', 'min_samples_leaf': 25},\n",
       " mean: 0.73669, std: 0.00328, params: {'max_features': 5, 'min_samples_split': 20, 'criterion': 'gini', 'min_samples_leaf': 25},\n",
       " mean: 0.73667, std: 0.00361, params: {'max_features': 5, 'min_samples_split': 25, 'criterion': 'gini', 'min_samples_leaf': 25},\n",
       " mean: 0.73268, std: 0.00272, params: {'max_features': 5, 'min_samples_split': 10, 'criterion': 'gini', 'min_samples_leaf': 50},\n",
       " mean: 0.73278, std: 0.00300, params: {'max_features': 5, 'min_samples_split': 15, 'criterion': 'gini', 'min_samples_leaf': 50},\n",
       " mean: 0.73294, std: 0.00303, params: {'max_features': 5, 'min_samples_split': 20, 'criterion': 'gini', 'min_samples_leaf': 50},\n",
       " mean: 0.73292, std: 0.00284, params: {'max_features': 5, 'min_samples_split': 25, 'criterion': 'gini', 'min_samples_leaf': 50},\n",
       " mean: 0.74125, std: 0.00313, params: {'max_features': 6, 'min_samples_split': 10, 'criterion': 'gini', 'min_samples_leaf': 1},\n",
       " mean: 0.74228, std: 0.00343, params: {'max_features': 6, 'min_samples_split': 15, 'criterion': 'gini', 'min_samples_leaf': 1},\n",
       " mean: 0.74315, std: 0.00305, params: {'max_features': 6, 'min_samples_split': 20, 'criterion': 'gini', 'min_samples_leaf': 1},\n",
       " mean: 0.74181, std: 0.00328, params: {'max_features': 6, 'min_samples_split': 25, 'criterion': 'gini', 'min_samples_leaf': 1},\n",
       " mean: 0.74171, std: 0.00429, params: {'max_features': 6, 'min_samples_split': 10, 'criterion': 'gini', 'min_samples_leaf': 10},\n",
       " mean: 0.74204, std: 0.00385, params: {'max_features': 6, 'min_samples_split': 15, 'criterion': 'gini', 'min_samples_leaf': 10},\n",
       " mean: 0.74202, std: 0.00401, params: {'max_features': 6, 'min_samples_split': 20, 'criterion': 'gini', 'min_samples_leaf': 10},\n",
       " mean: 0.74133, std: 0.00378, params: {'max_features': 6, 'min_samples_split': 25, 'criterion': 'gini', 'min_samples_leaf': 10},\n",
       " mean: 0.73697, std: 0.00337, params: {'max_features': 6, 'min_samples_split': 10, 'criterion': 'gini', 'min_samples_leaf': 25},\n",
       " mean: 0.73683, std: 0.00293, params: {'max_features': 6, 'min_samples_split': 15, 'criterion': 'gini', 'min_samples_leaf': 25},\n",
       " mean: 0.73707, std: 0.00378, params: {'max_features': 6, 'min_samples_split': 20, 'criterion': 'gini', 'min_samples_leaf': 25},\n",
       " mean: 0.73715, std: 0.00317, params: {'max_features': 6, 'min_samples_split': 25, 'criterion': 'gini', 'min_samples_leaf': 25},\n",
       " mean: 0.73290, std: 0.00245, params: {'max_features': 6, 'min_samples_split': 10, 'criterion': 'gini', 'min_samples_leaf': 50},\n",
       " mean: 0.73278, std: 0.00259, params: {'max_features': 6, 'min_samples_split': 15, 'criterion': 'gini', 'min_samples_leaf': 50},\n",
       " mean: 0.73314, std: 0.00243, params: {'max_features': 6, 'min_samples_split': 20, 'criterion': 'gini', 'min_samples_leaf': 50},\n",
       " mean: 0.73326, std: 0.00248, params: {'max_features': 6, 'min_samples_split': 25, 'criterion': 'gini', 'min_samples_leaf': 50},\n",
       " mean: 0.74072, std: 0.00395, params: {'max_features': 7, 'min_samples_split': 10, 'criterion': 'gini', 'min_samples_leaf': 1},\n",
       " mean: 0.74242, std: 0.00369, params: {'max_features': 7, 'min_samples_split': 15, 'criterion': 'gini', 'min_samples_leaf': 1},\n",
       " mean: 0.74277, std: 0.00297, params: {'max_features': 7, 'min_samples_split': 20, 'criterion': 'gini', 'min_samples_leaf': 1},\n",
       " mean: 0.74131, std: 0.00283, params: {'max_features': 7, 'min_samples_split': 25, 'criterion': 'gini', 'min_samples_leaf': 1},\n",
       " mean: 0.74133, std: 0.00463, params: {'max_features': 7, 'min_samples_split': 10, 'criterion': 'gini', 'min_samples_leaf': 10},\n",
       " mean: 0.74181, std: 0.00362, params: {'max_features': 7, 'min_samples_split': 15, 'criterion': 'gini', 'min_samples_leaf': 10},\n",
       " mean: 0.74214, std: 0.00474, params: {'max_features': 7, 'min_samples_split': 20, 'criterion': 'gini', 'min_samples_leaf': 10},\n",
       " mean: 0.74181, std: 0.00379, params: {'max_features': 7, 'min_samples_split': 25, 'criterion': 'gini', 'min_samples_leaf': 10},\n",
       " mean: 0.73728, std: 0.00276, params: {'max_features': 7, 'min_samples_split': 10, 'criterion': 'gini', 'min_samples_leaf': 25},\n",
       " mean: 0.73709, std: 0.00281, params: {'max_features': 7, 'min_samples_split': 15, 'criterion': 'gini', 'min_samples_leaf': 25},\n",
       " mean: 0.73683, std: 0.00276, params: {'max_features': 7, 'min_samples_split': 20, 'criterion': 'gini', 'min_samples_leaf': 25},\n",
       " mean: 0.73689, std: 0.00371, params: {'max_features': 7, 'min_samples_split': 25, 'criterion': 'gini', 'min_samples_leaf': 25},\n",
       " mean: 0.73340, std: 0.00290, params: {'max_features': 7, 'min_samples_split': 10, 'criterion': 'gini', 'min_samples_leaf': 50},\n",
       " mean: 0.73347, std: 0.00290, params: {'max_features': 7, 'min_samples_split': 15, 'criterion': 'gini', 'min_samples_leaf': 50},\n",
       " mean: 0.73334, std: 0.00287, params: {'max_features': 7, 'min_samples_split': 20, 'criterion': 'gini', 'min_samples_leaf': 50},\n",
       " mean: 0.73276, std: 0.00265, params: {'max_features': 7, 'min_samples_split': 25, 'criterion': 'gini', 'min_samples_leaf': 50},\n",
       " mean: 0.74281, std: 0.00256, params: {'max_features': 3, 'min_samples_split': 10, 'criterion': 'entropy', 'min_samples_leaf': 1},\n",
       " mean: 0.74315, std: 0.00283, params: {'max_features': 3, 'min_samples_split': 15, 'criterion': 'entropy', 'min_samples_leaf': 1},\n",
       " mean: 0.74291, std: 0.00271, params: {'max_features': 3, 'min_samples_split': 20, 'criterion': 'entropy', 'min_samples_leaf': 1},\n",
       " mean: 0.74194, std: 0.00347, params: {'max_features': 3, 'min_samples_split': 25, 'criterion': 'entropy', 'min_samples_leaf': 1},\n",
       " mean: 0.74090, std: 0.00287, params: {'max_features': 3, 'min_samples_split': 10, 'criterion': 'entropy', 'min_samples_leaf': 10},\n",
       " mean: 0.74076, std: 0.00234, params: {'max_features': 3, 'min_samples_split': 15, 'criterion': 'entropy', 'min_samples_leaf': 10},\n",
       " mean: 0.74046, std: 0.00296, params: {'max_features': 3, 'min_samples_split': 20, 'criterion': 'entropy', 'min_samples_leaf': 10},\n",
       " mean: 0.74031, std: 0.00277, params: {'max_features': 3, 'min_samples_split': 25, 'criterion': 'entropy', 'min_samples_leaf': 10},\n",
       " mean: 0.73515, std: 0.00322, params: {'max_features': 3, 'min_samples_split': 10, 'criterion': 'entropy', 'min_samples_leaf': 25},\n",
       " mean: 0.73505, std: 0.00293, params: {'max_features': 3, 'min_samples_split': 15, 'criterion': 'entropy', 'min_samples_leaf': 25},\n",
       " mean: 0.73462, std: 0.00293, params: {'max_features': 3, 'min_samples_split': 20, 'criterion': 'entropy', 'min_samples_leaf': 25},\n",
       " mean: 0.73409, std: 0.00294, params: {'max_features': 3, 'min_samples_split': 25, 'criterion': 'entropy', 'min_samples_leaf': 25},\n",
       " mean: 0.73018, std: 0.00273, params: {'max_features': 3, 'min_samples_split': 10, 'criterion': 'entropy', 'min_samples_leaf': 50},\n",
       " mean: 0.72966, std: 0.00328, params: {'max_features': 3, 'min_samples_split': 15, 'criterion': 'entropy', 'min_samples_leaf': 50},\n",
       " mean: 0.73014, std: 0.00277, params: {'max_features': 3, 'min_samples_split': 20, 'criterion': 'entropy', 'min_samples_leaf': 50},\n",
       " mean: 0.72974, std: 0.00322, params: {'max_features': 3, 'min_samples_split': 25, 'criterion': 'entropy', 'min_samples_leaf': 50},\n",
       " mean: 0.74264, std: 0.00189, params: {'max_features': 4, 'min_samples_split': 10, 'criterion': 'entropy', 'min_samples_leaf': 1},\n",
       " mean: 0.74429, std: 0.00202, params: {'max_features': 4, 'min_samples_split': 15, 'criterion': 'entropy', 'min_samples_leaf': 1},\n",
       " mean: 0.74360, std: 0.00385, params: {'max_features': 4, 'min_samples_split': 20, 'criterion': 'entropy', 'min_samples_leaf': 1},\n",
       " mean: 0.74319, std: 0.00408, params: {'max_features': 4, 'min_samples_split': 25, 'criterion': 'entropy', 'min_samples_leaf': 1},\n",
       " mean: 0.74173, std: 0.00323, params: {'max_features': 4, 'min_samples_split': 10, 'criterion': 'entropy', 'min_samples_leaf': 10},\n",
       " mean: 0.74232, std: 0.00267, params: {'max_features': 4, 'min_samples_split': 15, 'criterion': 'entropy', 'min_samples_leaf': 10},\n",
       " mean: 0.74208, std: 0.00307, params: {'max_features': 4, 'min_samples_split': 20, 'criterion': 'entropy', 'min_samples_leaf': 10},\n",
       " mean: 0.74181, std: 0.00262, params: {'max_features': 4, 'min_samples_split': 25, 'criterion': 'entropy', 'min_samples_leaf': 10},\n",
       " mean: 0.73610, std: 0.00298, params: {'max_features': 4, 'min_samples_split': 10, 'criterion': 'entropy', 'min_samples_leaf': 25},\n",
       " mean: 0.73630, std: 0.00300, params: {'max_features': 4, 'min_samples_split': 15, 'criterion': 'entropy', 'min_samples_leaf': 25},\n",
       " mean: 0.73618, std: 0.00297, params: {'max_features': 4, 'min_samples_split': 20, 'criterion': 'entropy', 'min_samples_leaf': 25},\n",
       " mean: 0.73630, std: 0.00300, params: {'max_features': 4, 'min_samples_split': 25, 'criterion': 'entropy', 'min_samples_leaf': 25},\n",
       " mean: 0.73223, std: 0.00265, params: {'max_features': 4, 'min_samples_split': 10, 'criterion': 'entropy', 'min_samples_leaf': 50},\n",
       " mean: 0.73195, std: 0.00300, params: {'max_features': 4, 'min_samples_split': 15, 'criterion': 'entropy', 'min_samples_leaf': 50},\n",
       " mean: 0.73203, std: 0.00285, params: {'max_features': 4, 'min_samples_split': 20, 'criterion': 'entropy', 'min_samples_leaf': 50},\n",
       " mean: 0.73233, std: 0.00248, params: {'max_features': 4, 'min_samples_split': 25, 'criterion': 'entropy', 'min_samples_leaf': 50},\n",
       " mean: 0.74185, std: 0.00291, params: {'max_features': 5, 'min_samples_split': 10, 'criterion': 'entropy', 'min_samples_leaf': 1},\n",
       " mean: 0.74293, std: 0.00281, params: {'max_features': 5, 'min_samples_split': 15, 'criterion': 'entropy', 'min_samples_leaf': 1},\n",
       " mean: 0.74291, std: 0.00234, params: {'max_features': 5, 'min_samples_split': 20, 'criterion': 'entropy', 'min_samples_leaf': 1},\n",
       " mean: 0.74386, std: 0.00318, params: {'max_features': 5, 'min_samples_split': 25, 'criterion': 'entropy', 'min_samples_leaf': 1},\n",
       " mean: 0.74179, std: 0.00367, params: {'max_features': 5, 'min_samples_split': 10, 'criterion': 'entropy', 'min_samples_leaf': 10},\n",
       " mean: 0.74200, std: 0.00335, params: {'max_features': 5, 'min_samples_split': 15, 'criterion': 'entropy', 'min_samples_leaf': 10},\n",
       " mean: 0.74181, std: 0.00275, params: {'max_features': 5, 'min_samples_split': 20, 'criterion': 'entropy', 'min_samples_leaf': 10},\n",
       " mean: 0.74104, std: 0.00289, params: {'max_features': 5, 'min_samples_split': 25, 'criterion': 'entropy', 'min_samples_leaf': 10},\n",
       " mean: 0.73736, std: 0.00296, params: {'max_features': 5, 'min_samples_split': 10, 'criterion': 'entropy', 'min_samples_leaf': 25},\n",
       " mean: 0.73701, std: 0.00328, params: {'max_features': 5, 'min_samples_split': 15, 'criterion': 'entropy', 'min_samples_leaf': 25},\n",
       " mean: 0.73679, std: 0.00283, params: {'max_features': 5, 'min_samples_split': 20, 'criterion': 'entropy', 'min_samples_leaf': 25},\n",
       " mean: 0.73711, std: 0.00285, params: {'max_features': 5, 'min_samples_split': 25, 'criterion': 'entropy', 'min_samples_leaf': 25},\n",
       " mean: 0.73296, std: 0.00243, params: {'max_features': 5, 'min_samples_split': 10, 'criterion': 'entropy', 'min_samples_leaf': 50},\n",
       " mean: 0.73320, std: 0.00260, params: {'max_features': 5, 'min_samples_split': 15, 'criterion': 'entropy', 'min_samples_leaf': 50},\n",
       " mean: 0.73314, std: 0.00249, params: {'max_features': 5, 'min_samples_split': 20, 'criterion': 'entropy', 'min_samples_leaf': 50},\n",
       " mean: 0.73361, std: 0.00229, params: {'max_features': 5, 'min_samples_split': 25, 'criterion': 'entropy', 'min_samples_leaf': 50},\n",
       " mean: 0.74145, std: 0.00254, params: {'max_features': 6, 'min_samples_split': 10, 'criterion': 'entropy', 'min_samples_leaf': 1},\n",
       " mean: 0.74396, std: 0.00343, params: {'max_features': 6, 'min_samples_split': 15, 'criterion': 'entropy', 'min_samples_leaf': 1},\n",
       " mean: 0.74398, std: 0.00272, params: {'max_features': 6, 'min_samples_split': 20, 'criterion': 'entropy', 'min_samples_leaf': 1},\n",
       " mean: 0.74313, std: 0.00341, params: {'max_features': 6, 'min_samples_split': 25, 'criterion': 'entropy', 'min_samples_leaf': 1},\n",
       " mean: 0.74202, std: 0.00387, params: {'max_features': 6, 'min_samples_split': 10, 'criterion': 'entropy', 'min_samples_leaf': 10},\n",
       " mean: 0.74183, std: 0.00393, params: {'max_features': 6, 'min_samples_split': 15, 'criterion': 'entropy', 'min_samples_leaf': 10},\n",
       " mean: 0.74167, std: 0.00406, params: {'max_features': 6, 'min_samples_split': 20, 'criterion': 'entropy', 'min_samples_leaf': 10},\n",
       " mean: 0.74125, std: 0.00338, params: {'max_features': 6, 'min_samples_split': 25, 'criterion': 'entropy', 'min_samples_leaf': 10},\n",
       " mean: 0.73746, std: 0.00312, params: {'max_features': 6, 'min_samples_split': 10, 'criterion': 'entropy', 'min_samples_leaf': 25},\n",
       " mean: 0.73768, std: 0.00264, params: {'max_features': 6, 'min_samples_split': 15, 'criterion': 'entropy', 'min_samples_leaf': 25},\n",
       " mean: 0.73774, std: 0.00256, params: {'max_features': 6, 'min_samples_split': 20, 'criterion': 'entropy', 'min_samples_leaf': 25},\n",
       " mean: 0.73776, std: 0.00255, params: {'max_features': 6, 'min_samples_split': 25, 'criterion': 'entropy', 'min_samples_leaf': 25},\n",
       " mean: 0.73395, std: 0.00216, params: {'max_features': 6, 'min_samples_split': 10, 'criterion': 'entropy', 'min_samples_leaf': 50},\n",
       " mean: 0.73334, std: 0.00193, params: {'max_features': 6, 'min_samples_split': 15, 'criterion': 'entropy', 'min_samples_leaf': 50},\n",
       " mean: 0.73361, std: 0.00190, params: {'max_features': 6, 'min_samples_split': 20, 'criterion': 'entropy', 'min_samples_leaf': 50},\n",
       " mean: 0.73357, std: 0.00223, params: {'max_features': 6, 'min_samples_split': 25, 'criterion': 'entropy', 'min_samples_leaf': 50},\n",
       " mean: 0.74096, std: 0.00256, params: {'max_features': 7, 'min_samples_split': 10, 'criterion': 'entropy', 'min_samples_leaf': 1},\n",
       " mean: 0.74228, std: 0.00281, params: {'max_features': 7, 'min_samples_split': 15, 'criterion': 'entropy', 'min_samples_leaf': 1},\n",
       " mean: 0.74311, std: 0.00280, params: {'max_features': 7, 'min_samples_split': 20, 'criterion': 'entropy', 'min_samples_leaf': 1},\n",
       " mean: 0.74388, std: 0.00319, params: {'max_features': 7, 'min_samples_split': 25, 'criterion': 'entropy', 'min_samples_leaf': 1},\n",
       " mean: 0.74123, std: 0.00428, params: {'max_features': 7, 'min_samples_split': 10, 'criterion': 'entropy', 'min_samples_leaf': 10},\n",
       " mean: 0.74181, std: 0.00379, params: {'max_features': 7, 'min_samples_split': 15, 'criterion': 'entropy', 'min_samples_leaf': 10},\n",
       " mean: 0.74269, std: 0.00472, params: {'max_features': 7, 'min_samples_split': 20, 'criterion': 'entropy', 'min_samples_leaf': 10},\n",
       " mean: 0.74139, std: 0.00344, params: {'max_features': 7, 'min_samples_split': 25, 'criterion': 'entropy', 'min_samples_leaf': 10},\n",
       " mean: 0.73778, std: 0.00226, params: {'max_features': 7, 'min_samples_split': 10, 'criterion': 'entropy', 'min_samples_leaf': 25},\n",
       " mean: 0.73744, std: 0.00208, params: {'max_features': 7, 'min_samples_split': 15, 'criterion': 'entropy', 'min_samples_leaf': 25},\n",
       " mean: 0.73750, std: 0.00221, params: {'max_features': 7, 'min_samples_split': 20, 'criterion': 'entropy', 'min_samples_leaf': 25},\n",
       " mean: 0.73776, std: 0.00238, params: {'max_features': 7, 'min_samples_split': 25, 'criterion': 'entropy', 'min_samples_leaf': 25},\n",
       " mean: 0.73361, std: 0.00216, params: {'max_features': 7, 'min_samples_split': 10, 'criterion': 'entropy', 'min_samples_leaf': 50},\n",
       " mean: 0.73361, std: 0.00168, params: {'max_features': 7, 'min_samples_split': 15, 'criterion': 'entropy', 'min_samples_leaf': 50},\n",
       " mean: 0.73355, std: 0.00218, params: {'max_features': 7, 'min_samples_split': 20, 'criterion': 'entropy', 'min_samples_leaf': 50},\n",
       " mean: 0.73393, std: 0.00228, params: {'max_features': 7, 'min_samples_split': 25, 'criterion': 'entropy', 'min_samples_leaf': 50}]"
      ]
     },
     "execution_count": 219,
     "metadata": {},
     "output_type": "execute_result"
    }
   ],
   "source": [
    "grid_search_rf.grid_scores_"
   ]
  },
  {
   "cell_type": "code",
   "execution_count": 12,
   "metadata": {
    "collapsed": true
   },
   "outputs": [],
   "source": [
    "rf_gs_model = ensemble.RandomForestClassifier(n_estimators = 1000, n_jobs = 2, criterion = 'entropy', \\\n",
    "                                               min_samples_split = 15, max_features = 4)"
   ]
  },
  {
   "cell_type": "code",
   "execution_count": 13,
   "metadata": {
    "collapsed": false
   },
   "outputs": [
    {
     "data": {
      "text/plain": [
       "RandomForestClassifier(bootstrap=True, class_weight=None, criterion='entropy',\n",
       "            max_depth=None, max_features=4, max_leaf_nodes=None,\n",
       "            min_impurity_split=1e-07, min_samples_leaf=1,\n",
       "            min_samples_split=15, min_weight_fraction_leaf=0.0,\n",
       "            n_estimators=1000, n_jobs=2, oob_score=False,\n",
       "            random_state=None, verbose=0, warm_start=False)"
      ]
     },
     "execution_count": 13,
     "metadata": {},
     "output_type": "execute_result"
    }
   ],
   "source": [
    "rf_gs_model.fit(X_mat, Y_mat)"
   ]
  },
  {
   "cell_type": "code",
   "execution_count": 14,
   "metadata": {
    "collapsed": false
   },
   "outputs": [
    {
     "data": {
      "text/plain": [
       "0.89110876965472519"
      ]
     },
     "execution_count": 14,
     "metadata": {},
     "output_type": "execute_result"
    }
   ],
   "source": [
    "rf_gs_model.score(X_mat, Y_mat)"
   ]
  },
  {
   "cell_type": "code",
   "execution_count": 15,
   "metadata": {
    "collapsed": false
   },
   "outputs": [],
   "source": [
    "from sklearn.model_selection import train_test_split\n",
    "X_train, X_val, y_train, y_val = train_test_split(X_mat, Y_mat, test_size=0.25)"
   ]
  },
  {
   "cell_type": "code",
   "execution_count": 16,
   "metadata": {
    "collapsed": false
   },
   "outputs": [
    {
     "data": {
      "text/plain": [
       "RandomForestClassifier(bootstrap=True, class_weight=None, criterion='entropy',\n",
       "            max_depth=None, max_features=4, max_leaf_nodes=None,\n",
       "            min_impurity_split=1e-07, min_samples_leaf=1,\n",
       "            min_samples_split=15, min_weight_fraction_leaf=0.0,\n",
       "            n_estimators=1000, n_jobs=2, oob_score=False,\n",
       "            random_state=None, verbose=0, warm_start=False)"
      ]
     },
     "execution_count": 16,
     "metadata": {},
     "output_type": "execute_result"
    }
   ],
   "source": [
    "rf_gs_model.fit(X_train, y_train)"
   ]
  },
  {
   "cell_type": "code",
   "execution_count": 17,
   "metadata": {
    "collapsed": false
   },
   "outputs": [],
   "source": [
    "y_val_pred = rf_gs_model.predict_proba(X_val)"
   ]
  },
  {
   "cell_type": "code",
   "execution_count": 18,
   "metadata": {
    "collapsed": false
   },
   "outputs": [
    {
     "data": {
      "text/plain": [
       "0.56373237120175856"
      ]
     },
     "execution_count": 18,
     "metadata": {},
     "output_type": "execute_result"
    }
   ],
   "source": [
    "log_loss(y_val, y_val_pred)"
   ]
  },
  {
   "cell_type": "markdown",
   "metadata": {},
   "source": [
    "#### look for optimal samples to split by..."
   ]
  },
  {
   "cell_type": "code",
   "execution_count": null,
   "metadata": {
    "collapsed": false
   },
   "outputs": [],
   "source": [
    "samples_tester = []\n",
    "\n",
    "for x in range(1, 6, 1):\n",
    "    if x % 2 == 0:\n",
    "        print(\"Checking model with %d leafmin\") % (x)\n",
    "    clf = ensemble.RandomForestClassifier(n_estimators=625, n_jobs=3, min_samples_split = 10, min_samples_leaf = x, oob_score=True)\n",
    "    clf.fit(X_train, y_train)\n",
    "    y_val_pred = clf.predict_proba(X_val)\n",
    "    ll = log_loss(y_val, y_val_pred)\n",
    "    samples_tester.append([x, ll, clf.oob_score_])"
   ]
  },
  {
   "cell_type": "code",
   "execution_count": null,
   "metadata": {
    "collapsed": false
   },
   "outputs": [],
   "source": [
    "tree = []\n",
    "logloss = []\n",
    "oob = []\n",
    "for x in samples_tester:\n",
    "    tree.append(x[0])\n",
    "    logloss.append(x[1])\n",
    "    oob.append(x[2])"
   ]
  },
  {
   "cell_type": "code",
   "execution_count": null,
   "metadata": {
    "collapsed": false
   },
   "outputs": [],
   "source": [
    "plt.scatter(tree, logloss)\n",
    "plt.plot(tree, logloss)\n",
    "plt.ylabel('logloss')\n",
    "plt.xlabel('min sample split')\n",
    "plt.title('logloss vs min sample split')\n",
    "plt.show()"
   ]
  },
  {
   "cell_type": "code",
   "execution_count": null,
   "metadata": {
    "collapsed": false
   },
   "outputs": [],
   "source": [
    "plt.scatter(tree, oob)\n",
    "plt.plot(tree, oob)\n",
    "plt.ylabel('oob score')\n",
    "plt.xlabel('min sample split')\n",
    "plt.title('oob vs min sample split')\n",
    "plt.show()"
   ]
  },
  {
   "cell_type": "markdown",
   "metadata": {},
   "source": [
    "#### Search for optimal # of trees"
   ]
  },
  {
   "cell_type": "code",
   "execution_count": null,
   "metadata": {
    "collapsed": true
   },
   "outputs": [],
   "source": [
    "LL_tree = []"
   ]
  },
  {
   "cell_type": "code",
   "execution_count": null,
   "metadata": {
    "collapsed": false
   },
   "outputs": [],
   "source": [
    "for x in range(300, 1001, 100):\n",
    "    if x % 200 == 0:\n",
    "        print(\"Checking model with %d ests\") % (x)\n",
    "    clf = ensemble.RandomForestClassifier(n_estimators=x, n_jobs=3, oob_score=True)\n",
    "    clf.fit(X_train, y_train)\n",
    "    y_val_pred = clf.predict_proba(X_val)\n",
    "    ll = log_loss(y_val, y_val_pred)\n",
    "    LL_tree.append([x, ll, clf.oob_score_])"
   ]
  },
  {
   "cell_type": "code",
   "execution_count": null,
   "metadata": {
    "collapsed": false
   },
   "outputs": [],
   "source": [
    "tree = []\n",
    "logloss = []\n",
    "oob = []\n",
    "for x in LL_tree:\n",
    "    tree.append(x[0])\n",
    "    logloss.append(x[1])\n",
    "    oob.append(x[2])"
   ]
  },
  {
   "cell_type": "code",
   "execution_count": null,
   "metadata": {
    "collapsed": false
   },
   "outputs": [],
   "source": [
    "plt.scatter(tree, logloss)\n",
    "plt.plot(tree, logloss)\n",
    "plt.ylabel('logloss')\n",
    "plt.xlabel('tree count')\n",
    "plt.title('logloss vs # of trees')\n",
    "plt.show()"
   ]
  },
  {
   "cell_type": "code",
   "execution_count": null,
   "metadata": {
    "collapsed": false
   },
   "outputs": [],
   "source": [
    "plt.scatter(tree, oob)\n",
    "plt.plot(tree, oob)\n",
    "plt.ylabel('oob score')\n",
    "plt.xlabel('tree count')\n",
    "plt.title('oob vs # of trees')\n",
    "plt.show()"
   ]
  },
  {
   "cell_type": "markdown",
   "metadata": {},
   "source": [
    "#### Adapt Predictions"
   ]
  },
  {
   "cell_type": "code",
   "execution_count": 92,
   "metadata": {
    "collapsed": false
   },
   "outputs": [
    {
     "name": "stdout",
     "output_type": "stream",
     "text": [
      "(74659, 14)\n"
     ]
    }
   ],
   "source": [
    "test = pd.read_json(open(\"test.json\", \"r\"))\n",
    "print(test.shape)"
   ]
  },
  {
   "cell_type": "code",
   "execution_count": 93,
   "metadata": {
    "collapsed": false
   },
   "outputs": [],
   "source": [
    "test[\"num_photos\"] = test[\"photos\"].apply(len)\n",
    "test[\"num_features\"] = test[\"features\"].apply(len)\n",
    "test[\"num_description_words\"] = test[\"description\"].apply(lambda x: len(x.split(\" \")))\n",
    "test[\"created\"] = pd.to_datetime(test[\"created\"])\n",
    "test[\"created_year\"] = test[\"created\"].dt.year\n",
    "test[\"created_month\"] = test[\"created\"].dt.month\n",
    "test[\"created_day\"] = test[\"created\"].dt.day\n",
    "test[\"created_hour\"] = test['created'].dt.hour"
   ]
  },
  {
   "cell_type": "code",
   "execution_count": 94,
   "metadata": {
    "collapsed": false
   },
   "outputs": [],
   "source": [
    "test['no_fee'] = [1 if (\"No Fee\" in x) else(0) for x in test.features]"
   ]
  },
  {
   "cell_type": "code",
   "execution_count": 96,
   "metadata": {
    "collapsed": false
   },
   "outputs": [
    {
     "data": {
      "text/plain": [
       "Index([            u'bathrooms',              u'bedrooms',\n",
       "                 u'building_id',               u'created',\n",
       "                 u'description',       u'display_address',\n",
       "                    u'features',              u'latitude',\n",
       "                  u'listing_id',             u'longitude',\n",
       "                  u'manager_id',                u'photos',\n",
       "                       u'price',        u'street_address',\n",
       "                  u'num_photos',          u'num_features',\n",
       "       u'num_description_words',          u'created_year',\n",
       "               u'created_month',           u'created_day',\n",
       "                u'created_hour',                u'no_fee',\n",
       "                   u'high_frac',              u'low_frac',\n",
       "                 u'medium_frac',         u'manager_skill'],\n",
       "      dtype='object')"
      ]
     },
     "execution_count": 96,
     "metadata": {},
     "output_type": "execute_result"
    }
   ],
   "source": [
    "# add the features computed on the training dataset to the validation dataset\n",
    "test = test.merge(temp.reset_index(),how='left', left_on='manager_id', right_on='manager_id')\n",
    "new_manager_ixes = test['high_frac'].isnull()\n",
    "test.loc[new_manager_ixes,['high_frac','low_frac', 'medium_frac','manager_skill']] = mean_values.values\n",
    "test.columns"
   ]
  },
  {
   "cell_type": "code",
   "execution_count": 100,
   "metadata": {
    "collapsed": false
   },
   "outputs": [],
   "source": [
    "add_count = test.groupby('manager_id').count().iloc[:,1]\n",
    "add_count = pd.DataFrame(add_count)\n",
    "add_count['count'] = add_count.bedrooms\n",
    "del add_count['bedrooms']"
   ]
  },
  {
   "cell_type": "code",
   "execution_count": 101,
   "metadata": {
    "collapsed": false
   },
   "outputs": [],
   "source": [
    "test = test.merge(add_count,how='left', left_on='manager_id', right_index=True)"
   ]
  },
  {
   "cell_type": "code",
   "execution_count": 103,
   "metadata": {
    "collapsed": false
   },
   "outputs": [
    {
     "data": {
      "text/html": [
       "<div>\n",
       "<table border=\"1\" class=\"dataframe\">\n",
       "  <thead>\n",
       "    <tr style=\"text-align: right;\">\n",
       "      <th></th>\n",
       "      <th>bathrooms</th>\n",
       "      <th>bedrooms</th>\n",
       "      <th>building_id</th>\n",
       "      <th>created</th>\n",
       "      <th>description</th>\n",
       "      <th>display_address</th>\n",
       "      <th>features</th>\n",
       "      <th>latitude</th>\n",
       "      <th>listing_id</th>\n",
       "      <th>longitude</th>\n",
       "      <th>...</th>\n",
       "      <th>created_year</th>\n",
       "      <th>created_month</th>\n",
       "      <th>created_day</th>\n",
       "      <th>created_hour</th>\n",
       "      <th>no_fee</th>\n",
       "      <th>high_frac</th>\n",
       "      <th>low_frac</th>\n",
       "      <th>medium_frac</th>\n",
       "      <th>manager_skill</th>\n",
       "      <th>count</th>\n",
       "    </tr>\n",
       "  </thead>\n",
       "  <tbody>\n",
       "    <tr>\n",
       "      <th>0</th>\n",
       "      <td>1.0</td>\n",
       "      <td>1</td>\n",
       "      <td>79780be1514f645d7e6be99a3de696c5</td>\n",
       "      <td>2016-06-11 05:29:41</td>\n",
       "      <td>Large with awesome terrace--accessible via bed...</td>\n",
       "      <td>Suffolk Street</td>\n",
       "      <td>[Elevator, Laundry in Building, Laundry in Uni...</td>\n",
       "      <td>40.7185</td>\n",
       "      <td>7142618</td>\n",
       "      <td>-73.9865</td>\n",
       "      <td>...</td>\n",
       "      <td>2016</td>\n",
       "      <td>6</td>\n",
       "      <td>11</td>\n",
       "      <td>5</td>\n",
       "      <td>0</td>\n",
       "      <td>0.081314</td>\n",
       "      <td>0.673194</td>\n",
       "      <td>0.245492</td>\n",
       "      <td>0.449945</td>\n",
       "      <td>38</td>\n",
       "    </tr>\n",
       "    <tr>\n",
       "      <th>1</th>\n",
       "      <td>1.0</td>\n",
       "      <td>2</td>\n",
       "      <td>0</td>\n",
       "      <td>2016-06-24 06:36:34</td>\n",
       "      <td>Prime Soho - between Bleecker and Houston - Ne...</td>\n",
       "      <td>Thompson Street</td>\n",
       "      <td>[Pre-War, Dogs Allowed, Cats Allowed]</td>\n",
       "      <td>40.7278</td>\n",
       "      <td>7210040</td>\n",
       "      <td>-74.0000</td>\n",
       "      <td>...</td>\n",
       "      <td>2016</td>\n",
       "      <td>6</td>\n",
       "      <td>24</td>\n",
       "      <td>6</td>\n",
       "      <td>0</td>\n",
       "      <td>0.081314</td>\n",
       "      <td>0.673194</td>\n",
       "      <td>0.245492</td>\n",
       "      <td>0.449945</td>\n",
       "      <td>17</td>\n",
       "    </tr>\n",
       "    <tr>\n",
       "      <th>2</th>\n",
       "      <td>1.0</td>\n",
       "      <td>1</td>\n",
       "      <td>3dbbb69fd52e0d25131aa1cd459c87eb</td>\n",
       "      <td>2016-06-03 04:29:40</td>\n",
       "      <td>New York chic has reached a new level ...</td>\n",
       "      <td>101 East 10th Street</td>\n",
       "      <td>[Doorman, Elevator, No Fee]</td>\n",
       "      <td>40.7306</td>\n",
       "      <td>7103890</td>\n",
       "      <td>-73.9890</td>\n",
       "      <td>...</td>\n",
       "      <td>2016</td>\n",
       "      <td>6</td>\n",
       "      <td>3</td>\n",
       "      <td>4</td>\n",
       "      <td>1</td>\n",
       "      <td>0.081314</td>\n",
       "      <td>0.673194</td>\n",
       "      <td>0.245492</td>\n",
       "      <td>0.449945</td>\n",
       "      <td>4</td>\n",
       "    </tr>\n",
       "    <tr>\n",
       "      <th>3</th>\n",
       "      <td>1.0</td>\n",
       "      <td>2</td>\n",
       "      <td>783d21d013a7e655bddc4ed0d461cc5e</td>\n",
       "      <td>2016-06-11 06:17:35</td>\n",
       "      <td>Step into this fantastic new Construction in t...</td>\n",
       "      <td>South Third Street\\r</td>\n",
       "      <td>[Roof Deck, Balcony, Elevator, Laundry in Buil...</td>\n",
       "      <td>40.7109</td>\n",
       "      <td>7143442</td>\n",
       "      <td>-73.9571</td>\n",
       "      <td>...</td>\n",
       "      <td>2016</td>\n",
       "      <td>6</td>\n",
       "      <td>11</td>\n",
       "      <td>6</td>\n",
       "      <td>0</td>\n",
       "      <td>0.081314</td>\n",
       "      <td>0.673194</td>\n",
       "      <td>0.245492</td>\n",
       "      <td>0.449945</td>\n",
       "      <td>117</td>\n",
       "    </tr>\n",
       "    <tr>\n",
       "      <th>4</th>\n",
       "      <td>2.0</td>\n",
       "      <td>2</td>\n",
       "      <td>6134e7c4dd1a98d9aee36623c9872b49</td>\n",
       "      <td>2016-04-12 05:24:17</td>\n",
       "      <td>~Take a stroll in Central Park, enjoy the ente...</td>\n",
       "      <td>Midtown West, 8th Ave</td>\n",
       "      <td>[Common Outdoor Space, Cats Allowed, Dogs Allo...</td>\n",
       "      <td>40.7650</td>\n",
       "      <td>6860601</td>\n",
       "      <td>-73.9845</td>\n",
       "      <td>...</td>\n",
       "      <td>2016</td>\n",
       "      <td>4</td>\n",
       "      <td>12</td>\n",
       "      <td>5</td>\n",
       "      <td>1</td>\n",
       "      <td>0.081314</td>\n",
       "      <td>0.673194</td>\n",
       "      <td>0.245492</td>\n",
       "      <td>0.449945</td>\n",
       "      <td>96</td>\n",
       "    </tr>\n",
       "  </tbody>\n",
       "</table>\n",
       "<p>5 rows × 27 columns</p>\n",
       "</div>"
      ],
      "text/plain": [
       "   bathrooms  bedrooms                       building_id             created  \\\n",
       "0        1.0         1  79780be1514f645d7e6be99a3de696c5 2016-06-11 05:29:41   \n",
       "1        1.0         2                                 0 2016-06-24 06:36:34   \n",
       "2        1.0         1  3dbbb69fd52e0d25131aa1cd459c87eb 2016-06-03 04:29:40   \n",
       "3        1.0         2  783d21d013a7e655bddc4ed0d461cc5e 2016-06-11 06:17:35   \n",
       "4        2.0         2  6134e7c4dd1a98d9aee36623c9872b49 2016-04-12 05:24:17   \n",
       "\n",
       "                                         description        display_address  \\\n",
       "0  Large with awesome terrace--accessible via bed...         Suffolk Street   \n",
       "1  Prime Soho - between Bleecker and Houston - Ne...        Thompson Street   \n",
       "2          New York chic has reached a new level ...   101 East 10th Street   \n",
       "3  Step into this fantastic new Construction in t...   South Third Street\\r   \n",
       "4  ~Take a stroll in Central Park, enjoy the ente...  Midtown West, 8th Ave   \n",
       "\n",
       "                                            features  latitude  listing_id  \\\n",
       "0  [Elevator, Laundry in Building, Laundry in Uni...   40.7185     7142618   \n",
       "1              [Pre-War, Dogs Allowed, Cats Allowed]   40.7278     7210040   \n",
       "2                        [Doorman, Elevator, No Fee]   40.7306     7103890   \n",
       "3  [Roof Deck, Balcony, Elevator, Laundry in Buil...   40.7109     7143442   \n",
       "4  [Common Outdoor Space, Cats Allowed, Dogs Allo...   40.7650     6860601   \n",
       "\n",
       "   longitude  ...   created_year created_month  created_day created_hour  \\\n",
       "0   -73.9865  ...           2016             6           11            5   \n",
       "1   -74.0000  ...           2016             6           24            6   \n",
       "2   -73.9890  ...           2016             6            3            4   \n",
       "3   -73.9571  ...           2016             6           11            6   \n",
       "4   -73.9845  ...           2016             4           12            5   \n",
       "\n",
       "   no_fee  high_frac  low_frac  medium_frac  manager_skill  count  \n",
       "0       0   0.081314  0.673194     0.245492       0.449945     38  \n",
       "1       0   0.081314  0.673194     0.245492       0.449945     17  \n",
       "2       1   0.081314  0.673194     0.245492       0.449945      4  \n",
       "3       0   0.081314  0.673194     0.245492       0.449945    117  \n",
       "4       1   0.081314  0.673194     0.245492       0.449945     96  \n",
       "\n",
       "[5 rows x 27 columns]"
      ]
     },
     "execution_count": 103,
     "metadata": {},
     "output_type": "execute_result"
    }
   ],
   "source": [
    "test.head()"
   ]
  },
  {
   "cell_type": "code",
   "execution_count": 104,
   "metadata": {
    "collapsed": false
   },
   "outputs": [],
   "source": [
    "testclf = ensemble.RandomForestClassifier(n_estimators=2000, n_jobs = 3, min_samples_split = 15, max_features = 4, \n",
    "                                         criterion = 'entropy')"
   ]
  },
  {
   "cell_type": "code",
   "execution_count": 105,
   "metadata": {
    "collapsed": false
   },
   "outputs": [
    {
     "data": {
      "text/plain": [
       "RandomForestClassifier(bootstrap=True, class_weight=None, criterion='entropy',\n",
       "            max_depth=None, max_features=4, max_leaf_nodes=None,\n",
       "            min_impurity_split=1e-07, min_samples_leaf=1,\n",
       "            min_samples_split=15, min_weight_fraction_leaf=0.0,\n",
       "            n_estimators=2000, n_jobs=3, oob_score=False,\n",
       "            random_state=None, verbose=0, warm_start=False)"
      ]
     },
     "execution_count": 105,
     "metadata": {},
     "output_type": "execute_result"
    }
   ],
   "source": [
    "testclf.fit(X_mat, Y_mat)"
   ]
  },
  {
   "cell_type": "code",
   "execution_count": 106,
   "metadata": {
    "collapsed": false
   },
   "outputs": [],
   "source": [
    "X = test[num_feats]\n",
    "y = testclf.predict_proba(X)"
   ]
  },
  {
   "cell_type": "code",
   "execution_count": 107,
   "metadata": {
    "collapsed": false
   },
   "outputs": [
    {
     "data": {
      "text/plain": [
       "{'high': 2, 'low': 0, 'medium': 1}"
      ]
     },
     "execution_count": 107,
     "metadata": {},
     "output_type": "execute_result"
    }
   ],
   "source": [
    "labels2idx = {'low': 0, 'medium': 1, 'high': 2}\n",
    "labels2idx"
   ]
  },
  {
   "cell_type": "code",
   "execution_count": 108,
   "metadata": {
    "collapsed": false
   },
   "outputs": [],
   "source": [
    "sub = pd.DataFrame()\n",
    "sub[\"listing_id\"] = test[\"listing_id\"]\n",
    "for label in [\"high\", \"medium\", \"low\"]:\n",
    "    sub[label] = y[:, labels2idx[label]]\n",
    "sub.to_csv(\"submission_rf.csv\", index=False)"
   ]
  },
  {
   "cell_type": "code",
   "execution_count": 109,
   "metadata": {
    "collapsed": false
   },
   "outputs": [
    {
     "data": {
      "text/plain": [
       "array([[ 0.61853827,  0.34241511,  0.03904662],\n",
       "       [ 0.21830015,  0.39347958,  0.38822028],\n",
       "       [ 0.94287482,  0.04826271,  0.00886248],\n",
       "       ..., \n",
       "       [ 0.7645825 ,  0.21157613,  0.02384137],\n",
       "       [ 0.38777055,  0.35275871,  0.25947074],\n",
       "       [ 0.71691452,  0.22307621,  0.06000928]])"
      ]
     },
     "execution_count": 109,
     "metadata": {},
     "output_type": "execute_result"
    }
   ],
   "source": []
  },
  {
   "cell_type": "code",
   "execution_count": null,
   "metadata": {
    "collapsed": true
   },
   "outputs": [],
   "source": []
  }
 ],
 "metadata": {
  "anaconda-cloud": {},
  "kernelspec": {
   "display_name": "Python [default]",
   "language": "python",
   "name": "python2"
  },
  "language_info": {
   "codemirror_mode": {
    "name": "ipython",
    "version": 2
   },
   "file_extension": ".py",
   "mimetype": "text/x-python",
   "name": "python",
   "nbconvert_exporter": "python",
   "pygments_lexer": "ipython2",
   "version": "2.7.13"
  }
 },
 "nbformat": 4,
 "nbformat_minor": 1
}
