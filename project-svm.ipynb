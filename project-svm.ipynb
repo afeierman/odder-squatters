{
 "cells": [
  {
   "cell_type": "code",
   "execution_count": 1,
   "metadata": {
    "collapsed": true
   },
   "outputs": [],
   "source": [
    "import numpy as np\n",
    "import pandas as pd\n",
    "from datetime import datetime"
   ]
  },
  {
   "cell_type": "code",
   "execution_count": 2,
   "metadata": {
    "collapsed": true
   },
   "outputs": [],
   "source": [
    "def print_full(x):\n",
    "    pd.set_option('display.max_rows', len(x))\n",
    "    print(x)\n",
    "    pd.reset_option('display.max_rows')"
   ]
  },
  {
   "cell_type": "code",
   "execution_count": 3,
   "metadata": {
    "collapsed": true
   },
   "outputs": [],
   "source": [
    "train_df = pd.read_json(\"./train.json\")"
   ]
  },
  {
   "cell_type": "code",
   "execution_count": 4,
   "metadata": {
    "collapsed": false
   },
   "outputs": [
    {
     "data": {
      "text/html": [
       "<div>\n",
       "<table border=\"1\" class=\"dataframe\">\n",
       "  <thead>\n",
       "    <tr style=\"text-align: right;\">\n",
       "      <th></th>\n",
       "      <th>bathrooms</th>\n",
       "      <th>bedrooms</th>\n",
       "      <th>building_id</th>\n",
       "      <th>created</th>\n",
       "      <th>description</th>\n",
       "      <th>display_address</th>\n",
       "      <th>features</th>\n",
       "      <th>interest_level</th>\n",
       "      <th>latitude</th>\n",
       "      <th>listing_id</th>\n",
       "      <th>longitude</th>\n",
       "      <th>manager_id</th>\n",
       "      <th>photos</th>\n",
       "      <th>price</th>\n",
       "      <th>street_address</th>\n",
       "    </tr>\n",
       "  </thead>\n",
       "  <tbody>\n",
       "    <tr>\n",
       "      <th>10</th>\n",
       "      <td>1.5</td>\n",
       "      <td>3</td>\n",
       "      <td>53a5b119ba8f7b61d4e010512e0dfc85</td>\n",
       "      <td>2016-06-24 07:54:24</td>\n",
       "      <td>A Brand New 3 Bedroom 1.5 bath ApartmentEnjoy ...</td>\n",
       "      <td>Metropolitan Avenue</td>\n",
       "      <td>[]</td>\n",
       "      <td>medium</td>\n",
       "      <td>40.7145</td>\n",
       "      <td>7211212</td>\n",
       "      <td>-73.9425</td>\n",
       "      <td>5ba989232d0489da1b5f2c45f6688adc</td>\n",
       "      <td>[https://photos.renthop.com/2/7211212_1ed4542e...</td>\n",
       "      <td>3000</td>\n",
       "      <td>792 Metropolitan Avenue</td>\n",
       "    </tr>\n",
       "  </tbody>\n",
       "</table>\n",
       "</div>"
      ],
      "text/plain": [
       "    bathrooms  bedrooms                       building_id  \\\n",
       "10        1.5         3  53a5b119ba8f7b61d4e010512e0dfc85   \n",
       "\n",
       "                created                                        description  \\\n",
       "10  2016-06-24 07:54:24  A Brand New 3 Bedroom 1.5 bath ApartmentEnjoy ...   \n",
       "\n",
       "        display_address features interest_level  latitude  listing_id  \\\n",
       "10  Metropolitan Avenue       []         medium   40.7145     7211212   \n",
       "\n",
       "    longitude                        manager_id  \\\n",
       "10   -73.9425  5ba989232d0489da1b5f2c45f6688adc   \n",
       "\n",
       "                                               photos  price  \\\n",
       "10  [https://photos.renthop.com/2/7211212_1ed4542e...   3000   \n",
       "\n",
       "             street_address  \n",
       "10  792 Metropolitan Avenue  "
      ]
     },
     "execution_count": 4,
     "metadata": {},
     "output_type": "execute_result"
    }
   ],
   "source": [
    "train_df.head(1)"
   ]
  },
  {
   "cell_type": "markdown",
   "metadata": {},
   "source": [
    "#### Data Cleaning"
   ]
  },
  {
   "cell_type": "code",
   "execution_count": 5,
   "metadata": {
    "collapsed": false
   },
   "outputs": [
    {
     "data": {
      "text/html": [
       "<div>\n",
       "<table border=\"1\" class=\"dataframe\">\n",
       "  <thead>\n",
       "    <tr style=\"text-align: right;\">\n",
       "      <th></th>\n",
       "      <th>bathrooms</th>\n",
       "      <th>bedrooms</th>\n",
       "      <th>building_id</th>\n",
       "      <th>created</th>\n",
       "      <th>description</th>\n",
       "      <th>display_address</th>\n",
       "      <th>features</th>\n",
       "      <th>interest_level</th>\n",
       "      <th>latitude</th>\n",
       "      <th>listing_id</th>\n",
       "      <th>longitude</th>\n",
       "      <th>manager_id</th>\n",
       "      <th>photos</th>\n",
       "      <th>price</th>\n",
       "      <th>street_address</th>\n",
       "    </tr>\n",
       "  </thead>\n",
       "  <tbody>\n",
       "    <tr>\n",
       "      <th>0</th>\n",
       "      <td>1.5</td>\n",
       "      <td>3</td>\n",
       "      <td>53a5b119ba8f7b61d4e010512e0dfc85</td>\n",
       "      <td>2016-06-24 07:54:24</td>\n",
       "      <td>A Brand New 3 Bedroom 1.5 bath ApartmentEnjoy ...</td>\n",
       "      <td>Metropolitan Avenue</td>\n",
       "      <td>[]</td>\n",
       "      <td>medium</td>\n",
       "      <td>40.7145</td>\n",
       "      <td>7211212</td>\n",
       "      <td>-73.9425</td>\n",
       "      <td>5ba989232d0489da1b5f2c45f6688adc</td>\n",
       "      <td>[https://photos.renthop.com/2/7211212_1ed4542e...</td>\n",
       "      <td>3000</td>\n",
       "      <td>792 Metropolitan Avenue</td>\n",
       "    </tr>\n",
       "    <tr>\n",
       "      <th>1</th>\n",
       "      <td>1.0</td>\n",
       "      <td>2</td>\n",
       "      <td>c5c8a357cba207596b04d1afd1e4f130</td>\n",
       "      <td>2016-06-12 12:19:27</td>\n",
       "      <td></td>\n",
       "      <td>Columbus Avenue</td>\n",
       "      <td>[Doorman, Elevator, Fitness Center, Cats Allow...</td>\n",
       "      <td>low</td>\n",
       "      <td>40.7947</td>\n",
       "      <td>7150865</td>\n",
       "      <td>-73.9667</td>\n",
       "      <td>7533621a882f71e25173b27e3139d83d</td>\n",
       "      <td>[https://photos.renthop.com/2/7150865_be3306c5...</td>\n",
       "      <td>5465</td>\n",
       "      <td>808 Columbus Avenue</td>\n",
       "    </tr>\n",
       "    <tr>\n",
       "      <th>2</th>\n",
       "      <td>1.0</td>\n",
       "      <td>1</td>\n",
       "      <td>c3ba40552e2120b0acfc3cb5730bb2aa</td>\n",
       "      <td>2016-04-17 03:26:41</td>\n",
       "      <td>Top Top West Village location, beautiful Pre-w...</td>\n",
       "      <td>W 13 Street</td>\n",
       "      <td>[Laundry In Building, Dishwasher, Hardwood Flo...</td>\n",
       "      <td>high</td>\n",
       "      <td>40.7388</td>\n",
       "      <td>6887163</td>\n",
       "      <td>-74.0018</td>\n",
       "      <td>d9039c43983f6e564b1482b273bd7b01</td>\n",
       "      <td>[https://photos.renthop.com/2/6887163_de85c427...</td>\n",
       "      <td>2850</td>\n",
       "      <td>241 W 13 Street</td>\n",
       "    </tr>\n",
       "  </tbody>\n",
       "</table>\n",
       "</div>"
      ],
      "text/plain": [
       "   bathrooms  bedrooms                       building_id              created  \\\n",
       "0        1.5         3  53a5b119ba8f7b61d4e010512e0dfc85  2016-06-24 07:54:24   \n",
       "1        1.0         2  c5c8a357cba207596b04d1afd1e4f130  2016-06-12 12:19:27   \n",
       "2        1.0         1  c3ba40552e2120b0acfc3cb5730bb2aa  2016-04-17 03:26:41   \n",
       "\n",
       "                                         description      display_address  \\\n",
       "0  A Brand New 3 Bedroom 1.5 bath ApartmentEnjoy ...  Metropolitan Avenue   \n",
       "1                                                         Columbus Avenue   \n",
       "2  Top Top West Village location, beautiful Pre-w...          W 13 Street   \n",
       "\n",
       "                                            features interest_level  latitude  \\\n",
       "0                                                 []         medium   40.7145   \n",
       "1  [Doorman, Elevator, Fitness Center, Cats Allow...            low   40.7947   \n",
       "2  [Laundry In Building, Dishwasher, Hardwood Flo...           high   40.7388   \n",
       "\n",
       "   listing_id  longitude                        manager_id  \\\n",
       "0     7211212   -73.9425  5ba989232d0489da1b5f2c45f6688adc   \n",
       "1     7150865   -73.9667  7533621a882f71e25173b27e3139d83d   \n",
       "2     6887163   -74.0018  d9039c43983f6e564b1482b273bd7b01   \n",
       "\n",
       "                                              photos  price  \\\n",
       "0  [https://photos.renthop.com/2/7211212_1ed4542e...   3000   \n",
       "1  [https://photos.renthop.com/2/7150865_be3306c5...   5465   \n",
       "2  [https://photos.renthop.com/2/6887163_de85c427...   2850   \n",
       "\n",
       "            street_address  \n",
       "0  792 Metropolitan Avenue  \n",
       "1      808 Columbus Avenue  \n",
       "2          241 W 13 Street  "
      ]
     },
     "execution_count": 5,
     "metadata": {},
     "output_type": "execute_result"
    }
   ],
   "source": [
    "#reset index\n",
    "train_df1 = train_df.copy()\n",
    "train_df1 = train_df1.reset_index()\n",
    "del train_df1['index']\n",
    "#train_df1['photo_num'] = train_df1[\"photos\"].apply(len)\n",
    "#train_df1['des_words_num'] = train_df1[\"description\"].apply(lambda x: len(x.split(\" \")))\n",
    "\n",
    "train_df1.head(3)"
   ]
  },
  {
   "cell_type": "code",
   "execution_count": 6,
   "metadata": {
    "collapsed": false
   },
   "outputs": [
    {
     "data": {
      "text/html": [
       "<div>\n",
       "<table border=\"1\" class=\"dataframe\">\n",
       "  <thead>\n",
       "    <tr style=\"text-align: right;\">\n",
       "      <th></th>\n",
       "      <th>bathrooms</th>\n",
       "      <th>bedrooms</th>\n",
       "      <th>description</th>\n",
       "      <th>display_address</th>\n",
       "      <th>features</th>\n",
       "      <th>interest_level</th>\n",
       "      <th>latitude</th>\n",
       "      <th>listing_id</th>\n",
       "      <th>longitude</th>\n",
       "      <th>manager_id</th>\n",
       "      <th>photos</th>\n",
       "      <th>price</th>\n",
       "      <th>street_address</th>\n",
       "      <th>date_group</th>\n",
       "    </tr>\n",
       "  </thead>\n",
       "  <tbody>\n",
       "    <tr>\n",
       "      <th>0</th>\n",
       "      <td>1.5</td>\n",
       "      <td>3</td>\n",
       "      <td>A Brand New 3 Bedroom 1.5 bath ApartmentEnjoy ...</td>\n",
       "      <td>Metropolitan Avenue</td>\n",
       "      <td>[]</td>\n",
       "      <td>medium</td>\n",
       "      <td>40.7145</td>\n",
       "      <td>7211212</td>\n",
       "      <td>-73.9425</td>\n",
       "      <td>5ba989232d0489da1b5f2c45f6688adc</td>\n",
       "      <td>[https://photos.renthop.com/2/7211212_1ed4542e...</td>\n",
       "      <td>3000</td>\n",
       "      <td>792 Metropolitan Avenue</td>\n",
       "      <td>5</td>\n",
       "    </tr>\n",
       "    <tr>\n",
       "      <th>1</th>\n",
       "      <td>1.0</td>\n",
       "      <td>2</td>\n",
       "      <td></td>\n",
       "      <td>Columbus Avenue</td>\n",
       "      <td>[Doorman, Elevator, Fitness Center, Cats Allow...</td>\n",
       "      <td>low</td>\n",
       "      <td>40.7947</td>\n",
       "      <td>7150865</td>\n",
       "      <td>-73.9667</td>\n",
       "      <td>7533621a882f71e25173b27e3139d83d</td>\n",
       "      <td>[https://photos.renthop.com/2/7150865_be3306c5...</td>\n",
       "      <td>5465</td>\n",
       "      <td>808 Columbus Avenue</td>\n",
       "      <td>4</td>\n",
       "    </tr>\n",
       "    <tr>\n",
       "      <th>2</th>\n",
       "      <td>1.0</td>\n",
       "      <td>1</td>\n",
       "      <td>Top Top West Village location, beautiful Pre-w...</td>\n",
       "      <td>W 13 Street</td>\n",
       "      <td>[Laundry In Building, Dishwasher, Hardwood Flo...</td>\n",
       "      <td>high</td>\n",
       "      <td>40.7388</td>\n",
       "      <td>6887163</td>\n",
       "      <td>-74.0018</td>\n",
       "      <td>d9039c43983f6e564b1482b273bd7b01</td>\n",
       "      <td>[https://photos.renthop.com/2/6887163_de85c427...</td>\n",
       "      <td>2850</td>\n",
       "      <td>241 W 13 Street</td>\n",
       "      <td>1</td>\n",
       "    </tr>\n",
       "  </tbody>\n",
       "</table>\n",
       "</div>"
      ],
      "text/plain": [
       "   bathrooms  bedrooms                                        description  \\\n",
       "0        1.5         3  A Brand New 3 Bedroom 1.5 bath ApartmentEnjoy ...   \n",
       "1        1.0         2                                                      \n",
       "2        1.0         1  Top Top West Village location, beautiful Pre-w...   \n",
       "\n",
       "       display_address                                           features  \\\n",
       "0  Metropolitan Avenue                                                 []   \n",
       "1      Columbus Avenue  [Doorman, Elevator, Fitness Center, Cats Allow...   \n",
       "2          W 13 Street  [Laundry In Building, Dishwasher, Hardwood Flo...   \n",
       "\n",
       "  interest_level  latitude  listing_id  longitude  \\\n",
       "0         medium   40.7145     7211212   -73.9425   \n",
       "1            low   40.7947     7150865   -73.9667   \n",
       "2           high   40.7388     6887163   -74.0018   \n",
       "\n",
       "                         manager_id  \\\n",
       "0  5ba989232d0489da1b5f2c45f6688adc   \n",
       "1  7533621a882f71e25173b27e3139d83d   \n",
       "2  d9039c43983f6e564b1482b273bd7b01   \n",
       "\n",
       "                                              photos  price  \\\n",
       "0  [https://photos.renthop.com/2/7211212_1ed4542e...   3000   \n",
       "1  [https://photos.renthop.com/2/7150865_be3306c5...   5465   \n",
       "2  [https://photos.renthop.com/2/6887163_de85c427...   2850   \n",
       "\n",
       "            street_address date_group  \n",
       "0  792 Metropolitan Avenue          5  \n",
       "1      808 Columbus Avenue          4  \n",
       "2          241 W 13 Street          1  "
      ]
     },
     "execution_count": 6,
     "metadata": {},
     "output_type": "execute_result"
    }
   ],
   "source": [
    "train_df2 = train_df1.copy()\n",
    "date_sep0 = datetime.strptime('2016-04-15 00:00:00', '%Y-%m-%d %H:%M:%S')\n",
    "date_sep1 = datetime.strptime('2016-05-01 00:00:00', '%Y-%m-%d %H:%M:%S')\n",
    "date_sep2 = datetime.strptime('2016-05-15 00:00:00', '%Y-%m-%d %H:%M:%S')\n",
    "date_sep3 = datetime.strptime('2016-06-01 00:00:00', '%Y-%m-%d %H:%M:%S')\n",
    "date_sep4 = datetime.strptime('2016-06-15 00:00:00', '%Y-%m-%d %H:%M:%S')\n",
    "date_lis = [datetime.strptime(x, '%Y-%m-%d %H:%M:%S') for x in train_df2.created]\n",
    "date_group = ['0' if x<date_sep0 else('1' if x<date_sep1 else('2' if x<date_sep2 else('3' if x<date_sep3 else('4' if x<date_sep4 else('5'))))) for x in date_lis]\n",
    "train_df2['date_group'] = date_group\n",
    "del train_df2['created']\n",
    "del train_df2['building_id']\n",
    "train_df2.head(3)"
   ]
  },
  {
   "cell_type": "code",
   "execution_count": 7,
   "metadata": {
    "collapsed": false
   },
   "outputs": [
    {
     "data": {
      "text/html": [
       "<div>\n",
       "<table border=\"1\" class=\"dataframe\">\n",
       "  <thead>\n",
       "    <tr style=\"text-align: right;\">\n",
       "      <th></th>\n",
       "      <th>bathrooms</th>\n",
       "      <th>bedrooms</th>\n",
       "      <th>interest_level</th>\n",
       "      <th>latitude</th>\n",
       "      <th>longitude</th>\n",
       "      <th>manager_id</th>\n",
       "      <th>price</th>\n",
       "      <th>date_group</th>\n",
       "      <th>features_number</th>\n",
       "      <th>photos_number</th>\n",
       "    </tr>\n",
       "  </thead>\n",
       "  <tbody>\n",
       "    <tr>\n",
       "      <th>0</th>\n",
       "      <td>1.5</td>\n",
       "      <td>3</td>\n",
       "      <td>medium</td>\n",
       "      <td>40.7145</td>\n",
       "      <td>-73.9425</td>\n",
       "      <td>5ba989232d0489da1b5f2c45f6688adc</td>\n",
       "      <td>3000</td>\n",
       "      <td>5</td>\n",
       "      <td>0</td>\n",
       "      <td>0</td>\n",
       "    </tr>\n",
       "    <tr>\n",
       "      <th>1</th>\n",
       "      <td>1.0</td>\n",
       "      <td>2</td>\n",
       "      <td>low</td>\n",
       "      <td>40.7947</td>\n",
       "      <td>-73.9667</td>\n",
       "      <td>7533621a882f71e25173b27e3139d83d</td>\n",
       "      <td>5465</td>\n",
       "      <td>4</td>\n",
       "      <td>5</td>\n",
       "      <td>5</td>\n",
       "    </tr>\n",
       "    <tr>\n",
       "      <th>2</th>\n",
       "      <td>1.0</td>\n",
       "      <td>1</td>\n",
       "      <td>high</td>\n",
       "      <td>40.7388</td>\n",
       "      <td>-74.0018</td>\n",
       "      <td>d9039c43983f6e564b1482b273bd7b01</td>\n",
       "      <td>2850</td>\n",
       "      <td>1</td>\n",
       "      <td>4</td>\n",
       "      <td>4</td>\n",
       "    </tr>\n",
       "  </tbody>\n",
       "</table>\n",
       "</div>"
      ],
      "text/plain": [
       "   bathrooms  bedrooms interest_level  latitude  longitude  \\\n",
       "0        1.5         3         medium   40.7145   -73.9425   \n",
       "1        1.0         2            low   40.7947   -73.9667   \n",
       "2        1.0         1           high   40.7388   -74.0018   \n",
       "\n",
       "                         manager_id  price date_group  features_number  \\\n",
       "0  5ba989232d0489da1b5f2c45f6688adc   3000          5                0   \n",
       "1  7533621a882f71e25173b27e3139d83d   5465          4                5   \n",
       "2  d9039c43983f6e564b1482b273bd7b01   2850          1                4   \n",
       "\n",
       "   photos_number  \n",
       "0              0  \n",
       "1              5  \n",
       "2              4  "
      ]
     },
     "execution_count": 7,
     "metadata": {},
     "output_type": "execute_result"
    }
   ],
   "source": [
    "train_df4 = train_df2.copy()\n",
    "train_df4['features_number'] = [len(x) for x in train_df4.features]\n",
    "train_df4['photos_number'] = [len(x) for x in train_df4.features]\n",
    "del train_df4['features']\n",
    "del train_df4['description']\n",
    "del train_df4['listing_id']\n",
    "del train_df4['photos']\n",
    "del train_df4['display_address']\n",
    "del train_df4['street_address']\n",
    "#train_df4['location-ll'] = [str(x) + ', ' + str(y) for x,y in zip(train_df4.latitude, train_df4.longitude)]\n",
    "#del train_df4['latitude']\n",
    "#del train_df4['longitude']\n",
    "train_df4.head(3)"
   ]
  },
  {
   "cell_type": "code",
   "execution_count": 8,
   "metadata": {
    "collapsed": false
   },
   "outputs": [],
   "source": [
    "#train_df5 = train_df4.copy()\n",
    "#date_group_dummy = pd.get_dummies(train_df5.date_group)\n",
    "#date_group_dummy = date_group_dummy.drop('dg0', axis = 1)\n",
    "#train_df5 = pd.concat([train_df5, date_group_dummy], axis = 1)\n",
    "#del train_df5['date_group']\n",
    "#train_df5.head()"
   ]
  },
  {
   "cell_type": "code",
   "execution_count": 9,
   "metadata": {
    "collapsed": false
   },
   "outputs": [],
   "source": [
    "#train_df6 = train_df5.copy()\n",
    "#train_df6['bath_categorical'] = ['bt<=1' if x<=1 else 'bt>1' for x in train_df6.bathrooms]\n",
    "#bath_dummy = pd.get_dummies(train_df6.bathrooms)\n",
    "#bath_dummy = bath_dummy.drop('1', axis = 1) # '1' as the base level\n",
    "#train_df6 = pd.concat([train_df6, bath_dummy], axis = 1)\n",
    "#del train_df6['bathrooms']\n",
    "#train_df6.head()"
   ]
  },
  {
   "cell_type": "code",
   "execution_count": 10,
   "metadata": {
    "collapsed": false
   },
   "outputs": [],
   "source": [
    "#train_df7 = train_df6.copy()\n",
    "#train_df7['fn_categorical'] = ['fna' if x<=2 else( 'fnb' if x<6 else 'fnc') for x in train_df7['features_number']]\n",
    "#divided so based on basic EDA.\n",
    "#feature_dummy = pd.get_dummies(train_df7.features_number)\n",
    "#train_df7 = pd.concat([train_df7, feature_dummy], axis = 1)\n",
    "#del train_df7['features_number']\n",
    "#train_df7.head()"
   ]
  },
  {
   "cell_type": "code",
   "execution_count": 11,
   "metadata": {
    "collapsed": false
   },
   "outputs": [],
   "source": [
    "#train_df8 = train_df7.copy()\n",
    "#bathroom_dummy = pd.get_dummies(train_df8.bath_categorical)\n",
    "#bathroom_dummy = bathroom_dummy.drop('bt<=1', axis = 1) # Use 'bt<=1' as the base level. \n",
    "#train_df8 = pd.concat([train_df8, bathroom_dummy], axis = 1)\n",
    "#del train_df8['bath_categorical']\n",
    "#train_df8.head()"
   ]
  },
  {
   "cell_type": "code",
   "execution_count": 12,
   "metadata": {
    "collapsed": false
   },
   "outputs": [],
   "source": [
    "#train_df9 = train_df8.copy()\n",
    "#features_num_dummy = pd.get_dummies(train_df9.fn_categorical)\n",
    "#features_num_dummy = features_num_dummy.drop('fna', axis = 1) # Use 'fna' as the base level.\n",
    "#train_df9 = pd.concat([train_df9, features_num_dummy], axis = 1)\n",
    "#del train_df9['fn_categorical']\n",
    "#train_df9.head()"
   ]
  },
  {
   "cell_type": "code",
   "execution_count": 13,
   "metadata": {
    "collapsed": false,
    "scrolled": true
   },
   "outputs": [],
   "source": [
    "#train_df10 = train_df9.copy()\n",
    "#train_df10['bd_categorical'] = ['bda' if x==0 else ('bdb' if x==1 else('bdc' if x==2 else 'bdd')) for x in train_df10.bedrooms]\n",
    "#bathroom type 'bda': bedroom number<=1; 'bdb': number ==2; 'bdc': else. \n",
    "#I divide into these three categories based on basic EDA done by Andrew.\n",
    "#del train_df10['bedrooms']\n",
    "#bedroom_dummy = pd.get_dummies(train_df10.bd_categorical)\n",
    "#bedroom_dummy = bedroom_dummy.drop('bda', axis = 1) # Use 'bda' as the base level.\n",
    "#train_df10 = pd.concat([train_df10, bedroom_dummy], axis = 1)\n",
    "#del train_df10['bd_categorical']\n",
    "#train_df10.head()"
   ]
  },
  {
   "cell_type": "markdown",
   "metadata": {
    "collapsed": true
   },
   "source": [
    "#### Introduce the location data"
   ]
  },
  {
   "cell_type": "code",
   "execution_count": 14,
   "metadata": {
    "collapsed": false
   },
   "outputs": [],
   "source": [
    "#Part I of the location data\n",
    "with open('address_data_p1.txt', 'r') as f:\n",
    "    location_data_p1 = f.readlines()\n",
    "#location_data"
   ]
  },
  {
   "cell_type": "code",
   "execution_count": 15,
   "metadata": {
    "collapsed": false
   },
   "outputs": [],
   "source": [
    "#Manually correct several address data caused by irregular responses from Google Maps API\n",
    "location_data_p1[95] =  u'102-32 65th Ave, Forest Hills, NY 11375, USA'\n",
    "location_data_p1[7333] =  u'612 W 137th St, New York, NY 10031, USA'\n",
    "location_data_p1[14251] =  u'1 West St, New York, NY 10004, USA'"
   ]
  },
  {
   "cell_type": "code",
   "execution_count": 16,
   "metadata": {
    "collapsed": false
   },
   "outputs": [
    {
     "data": {
      "text/plain": [
       "25000"
      ]
     },
     "execution_count": 16,
     "metadata": {},
     "output_type": "execute_result"
    }
   ],
   "source": [
    "zipcode_p1 = [x.split(',')[-2][-5:] for x in location_data_p1]\n",
    "len(zipcode_p1)"
   ]
  },
  {
   "cell_type": "code",
   "execution_count": 17,
   "metadata": {
    "collapsed": false
   },
   "outputs": [],
   "source": [
    "#Part II of the location data:\n",
    "df = pd.read_json('./address_data/with_goog_api')"
   ]
  },
  {
   "cell_type": "code",
   "execution_count": 18,
   "metadata": {
    "collapsed": false
   },
   "outputs": [],
   "source": [
    "location_data_p2 = df.iloc[24999:,15].values"
   ]
  },
  {
   "cell_type": "code",
   "execution_count": 19,
   "metadata": {
    "collapsed": true
   },
   "outputs": [],
   "source": [
    "#Mannually add the missing location data:\n",
    "location_data_p2[0] = u'222 E 39th St, New York, NY 10016, USA'\n",
    "location_data_p2[1] = u'439 W 50th St, New York, NY 10019, USA'\n",
    "location_data_p2[25860 - 24999] = u'1632 Madison Ave, New York, NY 10029, USA'\n",
    "location_data_p2[27181 - 24999] = u'24th St, Long Island City, NY, USA'\n",
    "location_data_p2[33286 - 24999] = u'450 E 83rd St, New York, NY 10028, USA'\n",
    "location_data_p2[34390 - 24999] = u'247 W 87th St, New York, NY 10024, USA'\n",
    "location_data_p2[35826 - 24999] = u'118 W 109th St, New York, NY 10025, USA'\n",
    "location_data_p2[36448 - 24999] = u'246 Mott St, New York, NY 10012, USA'\n",
    "location_data_p2[39199 - 24999] = u'21 W 106th St, New York, NY 10025, USA'\n",
    "location_data_p2[17988] = u'338 E 53rd St, New York, NY 10022, USA'\n",
    "location_data_p2[27181 - 24999] =  u'41-42 24th St, Long Island City, NY 11101, USA'\n",
    "location_data_p2[40317 - 24999] =  u'75 Washington St, New York, NY 10006, USA'"
   ]
  },
  {
   "cell_type": "code",
   "execution_count": 20,
   "metadata": {
    "collapsed": false
   },
   "outputs": [],
   "source": [
    "zipcode_p2 = [x.split(',')[-2][-5:] for x in location_data_p2]\n",
    "zipcode_p2 = zipcode_p2[1:] #1st one is already in part I so should be removed"
   ]
  },
  {
   "cell_type": "code",
   "execution_count": 21,
   "metadata": {
    "collapsed": false
   },
   "outputs": [],
   "source": [
    "#combine to get the zipcode data for all rows\n",
    "zipcode_all = zipcode_p1 + zipcode_p2"
   ]
  },
  {
   "cell_type": "code",
   "execution_count": 22,
   "metadata": {
    "collapsed": false
   },
   "outputs": [
    {
     "data": {
      "text/html": [
       "<div>\n",
       "<table border=\"1\" class=\"dataframe\">\n",
       "  <thead>\n",
       "    <tr style=\"text-align: right;\">\n",
       "      <th></th>\n",
       "      <th>bathrooms</th>\n",
       "      <th>bedrooms</th>\n",
       "      <th>interest_level</th>\n",
       "      <th>latitude</th>\n",
       "      <th>longitude</th>\n",
       "      <th>manager_id</th>\n",
       "      <th>price</th>\n",
       "      <th>date_group</th>\n",
       "      <th>features_number</th>\n",
       "      <th>photos_number</th>\n",
       "      <th>zipcode</th>\n",
       "    </tr>\n",
       "  </thead>\n",
       "  <tbody>\n",
       "    <tr>\n",
       "      <th>0</th>\n",
       "      <td>1.5</td>\n",
       "      <td>3</td>\n",
       "      <td>medium</td>\n",
       "      <td>40.7145</td>\n",
       "      <td>-73.9425</td>\n",
       "      <td>5ba989232d0489da1b5f2c45f6688adc</td>\n",
       "      <td>3000</td>\n",
       "      <td>5</td>\n",
       "      <td>0</td>\n",
       "      <td>0</td>\n",
       "      <td>11211</td>\n",
       "    </tr>\n",
       "    <tr>\n",
       "      <th>1</th>\n",
       "      <td>1.0</td>\n",
       "      <td>2</td>\n",
       "      <td>low</td>\n",
       "      <td>40.7947</td>\n",
       "      <td>-73.9667</td>\n",
       "      <td>7533621a882f71e25173b27e3139d83d</td>\n",
       "      <td>5465</td>\n",
       "      <td>4</td>\n",
       "      <td>5</td>\n",
       "      <td>5</td>\n",
       "      <td>10025</td>\n",
       "    </tr>\n",
       "    <tr>\n",
       "      <th>2</th>\n",
       "      <td>1.0</td>\n",
       "      <td>1</td>\n",
       "      <td>high</td>\n",
       "      <td>40.7388</td>\n",
       "      <td>-74.0018</td>\n",
       "      <td>d9039c43983f6e564b1482b273bd7b01</td>\n",
       "      <td>2850</td>\n",
       "      <td>1</td>\n",
       "      <td>4</td>\n",
       "      <td>4</td>\n",
       "      <td>10011</td>\n",
       "    </tr>\n",
       "    <tr>\n",
       "      <th>3</th>\n",
       "      <td>1.0</td>\n",
       "      <td>1</td>\n",
       "      <td>low</td>\n",
       "      <td>40.7539</td>\n",
       "      <td>-73.9677</td>\n",
       "      <td>1067e078446a7897d2da493d2f741316</td>\n",
       "      <td>3275</td>\n",
       "      <td>1</td>\n",
       "      <td>2</td>\n",
       "      <td>2</td>\n",
       "      <td>10017</td>\n",
       "    </tr>\n",
       "    <tr>\n",
       "      <th>4</th>\n",
       "      <td>1.0</td>\n",
       "      <td>4</td>\n",
       "      <td>low</td>\n",
       "      <td>40.8241</td>\n",
       "      <td>-73.9493</td>\n",
       "      <td>98e13ad4b495b9613cef886d79a6291f</td>\n",
       "      <td>3350</td>\n",
       "      <td>1</td>\n",
       "      <td>1</td>\n",
       "      <td>1</td>\n",
       "      <td>10031</td>\n",
       "    </tr>\n",
       "  </tbody>\n",
       "</table>\n",
       "</div>"
      ],
      "text/plain": [
       "   bathrooms  bedrooms interest_level  latitude  longitude  \\\n",
       "0        1.5         3         medium   40.7145   -73.9425   \n",
       "1        1.0         2            low   40.7947   -73.9667   \n",
       "2        1.0         1           high   40.7388   -74.0018   \n",
       "3        1.0         1            low   40.7539   -73.9677   \n",
       "4        1.0         4            low   40.8241   -73.9493   \n",
       "\n",
       "                         manager_id  price date_group  features_number  \\\n",
       "0  5ba989232d0489da1b5f2c45f6688adc   3000          5                0   \n",
       "1  7533621a882f71e25173b27e3139d83d   5465          4                5   \n",
       "2  d9039c43983f6e564b1482b273bd7b01   2850          1                4   \n",
       "3  1067e078446a7897d2da493d2f741316   3275          1                2   \n",
       "4  98e13ad4b495b9613cef886d79a6291f   3350          1                1   \n",
       "\n",
       "   photos_number zipcode  \n",
       "0              0   11211  \n",
       "1              5   10025  \n",
       "2              4   10011  \n",
       "3              2   10017  \n",
       "4              1   10031  "
      ]
     },
     "execution_count": 22,
     "metadata": {},
     "output_type": "execute_result"
    }
   ],
   "source": [
    "#Append the zipcode data to the data frame\n",
    "train_df11 = train_df4.copy()\n",
    "train_df11['zipcode'] = zipcode_all\n",
    "train_df11.head()"
   ]
  },
  {
   "cell_type": "code",
   "execution_count": 23,
   "metadata": {
    "collapsed": false
   },
   "outputs": [],
   "source": [
    "#Delete irregular zipcodes. These 4 zipcodes are not even in NY, so they might be results of mis-posting.\n",
    "#train_df12 = train_df11.copy()\n",
    "#train_df12 = train_df12[train_df12['zipcode'] != '46205']\n",
    "#train_df12 = train_df12[train_df12['zipcode'] != '55423']\n",
    "#train_df12 = train_df12[train_df12['zipcode'] != '60619']\n",
    "#train_df12 = train_df12[train_df12['zipcode'] != '90011']\n",
    "#train_df12.head()"
   ]
  },
  {
   "cell_type": "code",
   "execution_count": 24,
   "metadata": {
    "collapsed": false
   },
   "outputs": [],
   "source": [
    "#train_df13 = train_df12.copy()\n",
    "#del train_df13['location-ll']\n",
    "#train_df13.head()"
   ]
  },
  {
   "cell_type": "code",
   "execution_count": 25,
   "metadata": {
    "collapsed": false
   },
   "outputs": [
    {
     "data": {
      "text/html": [
       "<div>\n",
       "<table border=\"1\" class=\"dataframe\">\n",
       "  <thead>\n",
       "    <tr style=\"text-align: right;\">\n",
       "      <th></th>\n",
       "      <th>bathrooms</th>\n",
       "      <th>bedrooms</th>\n",
       "      <th>interest_level</th>\n",
       "      <th>latitude</th>\n",
       "      <th>longitude</th>\n",
       "      <th>manager_id</th>\n",
       "      <th>price</th>\n",
       "      <th>date_group</th>\n",
       "      <th>features_number</th>\n",
       "      <th>photos_number</th>\n",
       "      <th>zipcode</th>\n",
       "    </tr>\n",
       "  </thead>\n",
       "  <tbody>\n",
       "    <tr>\n",
       "      <th>0</th>\n",
       "      <td>1.5</td>\n",
       "      <td>3</td>\n",
       "      <td>medium</td>\n",
       "      <td>40.7145</td>\n",
       "      <td>-73.9425</td>\n",
       "      <td>5ba989232d0489da1b5f2c45f6688adc</td>\n",
       "      <td>3000</td>\n",
       "      <td>5</td>\n",
       "      <td>0</td>\n",
       "      <td>0</td>\n",
       "      <td>11211</td>\n",
       "    </tr>\n",
       "    <tr>\n",
       "      <th>1</th>\n",
       "      <td>1.0</td>\n",
       "      <td>2</td>\n",
       "      <td>low</td>\n",
       "      <td>40.7947</td>\n",
       "      <td>-73.9667</td>\n",
       "      <td>7533621a882f71e25173b27e3139d83d</td>\n",
       "      <td>5465</td>\n",
       "      <td>4</td>\n",
       "      <td>5</td>\n",
       "      <td>5</td>\n",
       "      <td>10025</td>\n",
       "    </tr>\n",
       "    <tr>\n",
       "      <th>2</th>\n",
       "      <td>1.0</td>\n",
       "      <td>1</td>\n",
       "      <td>high</td>\n",
       "      <td>40.7388</td>\n",
       "      <td>-74.0018</td>\n",
       "      <td>d9039c43983f6e564b1482b273bd7b01</td>\n",
       "      <td>2850</td>\n",
       "      <td>1</td>\n",
       "      <td>4</td>\n",
       "      <td>4</td>\n",
       "      <td>10011</td>\n",
       "    </tr>\n",
       "    <tr>\n",
       "      <th>3</th>\n",
       "      <td>1.0</td>\n",
       "      <td>1</td>\n",
       "      <td>low</td>\n",
       "      <td>40.7539</td>\n",
       "      <td>-73.9677</td>\n",
       "      <td>1067e078446a7897d2da493d2f741316</td>\n",
       "      <td>3275</td>\n",
       "      <td>1</td>\n",
       "      <td>2</td>\n",
       "      <td>2</td>\n",
       "      <td>10017</td>\n",
       "    </tr>\n",
       "    <tr>\n",
       "      <th>4</th>\n",
       "      <td>1.0</td>\n",
       "      <td>4</td>\n",
       "      <td>low</td>\n",
       "      <td>40.8241</td>\n",
       "      <td>-73.9493</td>\n",
       "      <td>98e13ad4b495b9613cef886d79a6291f</td>\n",
       "      <td>3350</td>\n",
       "      <td>1</td>\n",
       "      <td>1</td>\n",
       "      <td>1</td>\n",
       "      <td>10031</td>\n",
       "    </tr>\n",
       "  </tbody>\n",
       "</table>\n",
       "</div>"
      ],
      "text/plain": [
       "   bathrooms  bedrooms interest_level  latitude  longitude  \\\n",
       "0        1.5         3         medium   40.7145   -73.9425   \n",
       "1        1.0         2            low   40.7947   -73.9667   \n",
       "2        1.0         1           high   40.7388   -74.0018   \n",
       "3        1.0         1            low   40.7539   -73.9677   \n",
       "4        1.0         4            low   40.8241   -73.9493   \n",
       "\n",
       "                         manager_id  price date_group  features_number  \\\n",
       "0  5ba989232d0489da1b5f2c45f6688adc   3000          5                0   \n",
       "1  7533621a882f71e25173b27e3139d83d   5465          4                5   \n",
       "2  d9039c43983f6e564b1482b273bd7b01   2850          1                4   \n",
       "3  1067e078446a7897d2da493d2f741316   3275          1                2   \n",
       "4  98e13ad4b495b9613cef886d79a6291f   3350          1                1   \n",
       "\n",
       "   photos_number zipcode  \n",
       "0              0   11211  \n",
       "1              5   10025  \n",
       "2              4   10011  \n",
       "3              2   10017  \n",
       "4              1   10031  "
      ]
     },
     "execution_count": 25,
     "metadata": {},
     "output_type": "execute_result"
    }
   ],
   "source": [
    "#remove areas with zipcodes outside NY\n",
    "#Because there are hundreds of zipcodes, we treat it as a numeric feature.\n",
    "train_df14 = train_df11.copy()\n",
    "train_df14 = train_df14[train_df14['zipcode'].map(lambda x: x.startswith('1'))]\n",
    "train_df14.head()"
   ]
  },
  {
   "cell_type": "code",
   "execution_count": 26,
   "metadata": {
    "collapsed": false
   },
   "outputs": [
    {
     "data": {
      "text/html": [
       "<div>\n",
       "<table border=\"1\" class=\"dataframe\">\n",
       "  <thead>\n",
       "    <tr style=\"text-align: right;\">\n",
       "      <th></th>\n",
       "      <th>bathrooms</th>\n",
       "      <th>bedrooms</th>\n",
       "      <th>interest_level</th>\n",
       "      <th>latitude</th>\n",
       "      <th>longitude</th>\n",
       "      <th>manager_id</th>\n",
       "      <th>price</th>\n",
       "      <th>date_group</th>\n",
       "      <th>features_number</th>\n",
       "      <th>photos_number</th>\n",
       "      <th>zipcode</th>\n",
       "      <th>lat*long</th>\n",
       "    </tr>\n",
       "  </thead>\n",
       "  <tbody>\n",
       "    <tr>\n",
       "      <th>0</th>\n",
       "      <td>1.5</td>\n",
       "      <td>3</td>\n",
       "      <td>medium</td>\n",
       "      <td>40.7145</td>\n",
       "      <td>-73.9425</td>\n",
       "      <td>5ba989232d0489da1b5f2c45f6688adc</td>\n",
       "      <td>3000</td>\n",
       "      <td>5</td>\n",
       "      <td>0</td>\n",
       "      <td>0</td>\n",
       "      <td>11211</td>\n",
       "      <td>-3010.531916</td>\n",
       "    </tr>\n",
       "    <tr>\n",
       "      <th>1</th>\n",
       "      <td>1.0</td>\n",
       "      <td>2</td>\n",
       "      <td>low</td>\n",
       "      <td>40.7947</td>\n",
       "      <td>-73.9667</td>\n",
       "      <td>7533621a882f71e25173b27e3139d83d</td>\n",
       "      <td>5465</td>\n",
       "      <td>4</td>\n",
       "      <td>5</td>\n",
       "      <td>5</td>\n",
       "      <td>10025</td>\n",
       "      <td>-3017.449336</td>\n",
       "    </tr>\n",
       "    <tr>\n",
       "      <th>2</th>\n",
       "      <td>1.0</td>\n",
       "      <td>1</td>\n",
       "      <td>high</td>\n",
       "      <td>40.7388</td>\n",
       "      <td>-74.0018</td>\n",
       "      <td>d9039c43983f6e564b1482b273bd7b01</td>\n",
       "      <td>2850</td>\n",
       "      <td>1</td>\n",
       "      <td>4</td>\n",
       "      <td>4</td>\n",
       "      <td>10011</td>\n",
       "      <td>-3014.744530</td>\n",
       "    </tr>\n",
       "    <tr>\n",
       "      <th>3</th>\n",
       "      <td>1.0</td>\n",
       "      <td>1</td>\n",
       "      <td>low</td>\n",
       "      <td>40.7539</td>\n",
       "      <td>-73.9677</td>\n",
       "      <td>1067e078446a7897d2da493d2f741316</td>\n",
       "      <td>3275</td>\n",
       "      <td>1</td>\n",
       "      <td>2</td>\n",
       "      <td>2</td>\n",
       "      <td>10017</td>\n",
       "      <td>-3014.472249</td>\n",
       "    </tr>\n",
       "    <tr>\n",
       "      <th>4</th>\n",
       "      <td>1.0</td>\n",
       "      <td>4</td>\n",
       "      <td>low</td>\n",
       "      <td>40.8241</td>\n",
       "      <td>-73.9493</td>\n",
       "      <td>98e13ad4b495b9613cef886d79a6291f</td>\n",
       "      <td>3350</td>\n",
       "      <td>1</td>\n",
       "      <td>1</td>\n",
       "      <td>1</td>\n",
       "      <td>10031</td>\n",
       "      <td>-3018.913618</td>\n",
       "    </tr>\n",
       "  </tbody>\n",
       "</table>\n",
       "</div>"
      ],
      "text/plain": [
       "   bathrooms  bedrooms interest_level  latitude  longitude  \\\n",
       "0        1.5         3         medium   40.7145   -73.9425   \n",
       "1        1.0         2            low   40.7947   -73.9667   \n",
       "2        1.0         1           high   40.7388   -74.0018   \n",
       "3        1.0         1            low   40.7539   -73.9677   \n",
       "4        1.0         4            low   40.8241   -73.9493   \n",
       "\n",
       "                         manager_id  price date_group  features_number  \\\n",
       "0  5ba989232d0489da1b5f2c45f6688adc   3000          5                0   \n",
       "1  7533621a882f71e25173b27e3139d83d   5465          4                5   \n",
       "2  d9039c43983f6e564b1482b273bd7b01   2850          1                4   \n",
       "3  1067e078446a7897d2da493d2f741316   3275          1                2   \n",
       "4  98e13ad4b495b9613cef886d79a6291f   3350          1                1   \n",
       "\n",
       "   photos_number zipcode     lat*long  \n",
       "0              0   11211 -3010.531916  \n",
       "1              5   10025 -3017.449336  \n",
       "2              4   10011 -3014.744530  \n",
       "3              2   10017 -3014.472249  \n",
       "4              1   10031 -3018.913618  "
      ]
     },
     "execution_count": 26,
     "metadata": {},
     "output_type": "execute_result"
    }
   ],
   "source": [
    "#Add interaction terms\n",
    "train_df15 = train_df14.copy()\n",
    "#train_df15['price*zip'] = [float(x)*float(y) for x,y in zip(train_df15.price, train_df15.zipcode)]\n",
    "train_df15['lat*long'] = [float(x)*float(y) for x,y in zip(train_df15.latitude, train_df15.longitude)]\n",
    "train_df15.head()"
   ]
  },
  {
   "cell_type": "code",
   "execution_count": 27,
   "metadata": {
    "collapsed": false
   },
   "outputs": [
    {
     "data": {
      "text/html": [
       "<div>\n",
       "<table border=\"1\" class=\"dataframe\">\n",
       "  <thead>\n",
       "    <tr style=\"text-align: right;\">\n",
       "      <th></th>\n",
       "      <th>bathrooms</th>\n",
       "      <th>bedrooms</th>\n",
       "      <th>interest_level</th>\n",
       "      <th>latitude</th>\n",
       "      <th>longitude</th>\n",
       "      <th>manager_id</th>\n",
       "      <th>price</th>\n",
       "      <th>date_group</th>\n",
       "      <th>features_number</th>\n",
       "      <th>photos_number</th>\n",
       "      <th>zipcode</th>\n",
       "      <th>lat*long</th>\n",
       "    </tr>\n",
       "  </thead>\n",
       "  <tbody>\n",
       "    <tr>\n",
       "      <th>0</th>\n",
       "      <td>1.5</td>\n",
       "      <td>3</td>\n",
       "      <td>medium</td>\n",
       "      <td>40.7145</td>\n",
       "      <td>-73.9425</td>\n",
       "      <td>5ba989232d0489da1b5f2c45f6688adc</td>\n",
       "      <td>3000</td>\n",
       "      <td>5</td>\n",
       "      <td>0</td>\n",
       "      <td>0</td>\n",
       "      <td>11211</td>\n",
       "      <td>-3010.531916</td>\n",
       "    </tr>\n",
       "    <tr>\n",
       "      <th>1</th>\n",
       "      <td>1.0</td>\n",
       "      <td>2</td>\n",
       "      <td>low</td>\n",
       "      <td>40.7947</td>\n",
       "      <td>-73.9667</td>\n",
       "      <td>7533621a882f71e25173b27e3139d83d</td>\n",
       "      <td>5465</td>\n",
       "      <td>4</td>\n",
       "      <td>5</td>\n",
       "      <td>5</td>\n",
       "      <td>10025</td>\n",
       "      <td>-3017.449336</td>\n",
       "    </tr>\n",
       "    <tr>\n",
       "      <th>2</th>\n",
       "      <td>1.0</td>\n",
       "      <td>1</td>\n",
       "      <td>high</td>\n",
       "      <td>40.7388</td>\n",
       "      <td>-74.0018</td>\n",
       "      <td>d9039c43983f6e564b1482b273bd7b01</td>\n",
       "      <td>2850</td>\n",
       "      <td>1</td>\n",
       "      <td>4</td>\n",
       "      <td>4</td>\n",
       "      <td>10011</td>\n",
       "      <td>-3014.744530</td>\n",
       "    </tr>\n",
       "    <tr>\n",
       "      <th>3</th>\n",
       "      <td>1.0</td>\n",
       "      <td>1</td>\n",
       "      <td>low</td>\n",
       "      <td>40.7539</td>\n",
       "      <td>-73.9677</td>\n",
       "      <td>1067e078446a7897d2da493d2f741316</td>\n",
       "      <td>3275</td>\n",
       "      <td>1</td>\n",
       "      <td>2</td>\n",
       "      <td>2</td>\n",
       "      <td>10017</td>\n",
       "      <td>-3014.472249</td>\n",
       "    </tr>\n",
       "    <tr>\n",
       "      <th>4</th>\n",
       "      <td>1.0</td>\n",
       "      <td>4</td>\n",
       "      <td>low</td>\n",
       "      <td>40.8241</td>\n",
       "      <td>-73.9493</td>\n",
       "      <td>98e13ad4b495b9613cef886d79a6291f</td>\n",
       "      <td>3350</td>\n",
       "      <td>1</td>\n",
       "      <td>1</td>\n",
       "      <td>1</td>\n",
       "      <td>10031</td>\n",
       "      <td>-3018.913618</td>\n",
       "    </tr>\n",
       "  </tbody>\n",
       "</table>\n",
       "</div>"
      ],
      "text/plain": [
       "   bathrooms  bedrooms interest_level  latitude  longitude  \\\n",
       "0        1.5         3         medium   40.7145   -73.9425   \n",
       "1        1.0         2            low   40.7947   -73.9667   \n",
       "2        1.0         1           high   40.7388   -74.0018   \n",
       "3        1.0         1            low   40.7539   -73.9677   \n",
       "4        1.0         4            low   40.8241   -73.9493   \n",
       "\n",
       "                         manager_id  price date_group  features_number  \\\n",
       "0  5ba989232d0489da1b5f2c45f6688adc   3000          5                0   \n",
       "1  7533621a882f71e25173b27e3139d83d   5465          4                5   \n",
       "2  d9039c43983f6e564b1482b273bd7b01   2850          1                4   \n",
       "3  1067e078446a7897d2da493d2f741316   3275          1                2   \n",
       "4  98e13ad4b495b9613cef886d79a6291f   3350          1                1   \n",
       "\n",
       "   photos_number zipcode     lat*long  \n",
       "0              0   11211 -3010.531916  \n",
       "1              5   10025 -3017.449336  \n",
       "2              4   10011 -3014.744530  \n",
       "3              2   10017 -3014.472249  \n",
       "4              1   10031 -3018.913618  "
      ]
     },
     "execution_count": 27,
     "metadata": {},
     "output_type": "execute_result"
    }
   ],
   "source": [
    "#Dummify the zipcode feature\n",
    "train_df16 = train_df15.copy()\n",
    "#zipcode_dummy = pd.get_dummies(train_df16.zipcode)\n",
    "#zipcode_dummy = zipcode_dummy.drop('10025', axis = 1) # Use '10025' as the base level.\n",
    "#train_df16 = pd.concat([train_df16, zipcode_dummy], axis = 1)\n",
    "train_df16['zipcode']\n",
    "train_df16.head()"
   ]
  },
  {
   "cell_type": "code",
   "execution_count": 28,
   "metadata": {
    "collapsed": false
   },
   "outputs": [],
   "source": [
    "#add manager skills (This can greatly improve the prediction accuracy!)\n",
    "train_df17 = train_df16.copy()\n",
    "\n",
    "#from sklearn import preprocessing\n",
    "#lbl = preprocessing.LabelEncoder()\n",
    "#lbl.fit(list(train_df17['manager_id'].values))\n",
    "\n",
    "#train_df17['manager_id'] = lbl.transform(list(train_df17['manager_id'].values))\n",
    "\n",
    "#temp = pd.concat([train_df17.manager_id,pd.get_dummies(train_df17.interest_level)], axis = 1).groupby('manager_id').mean()\n",
    "#temp.columns = ['high_frac','low_frac', 'medium_frac']\n",
    "#temp['count'] = train_df17.groupby('manager_id').count().iloc[:,1]\n",
    "#temp['manager_skill'] = temp['medium_frac'] + 2 * temp['high_frac'] #+ 1.5 * temp['high_frac']*temp['medium_frac']\n",
    "# get ixes for unranked managers...\n",
    "#unranked_managers_ixes = temp['count']<20\n",
    "# ... and ranked ones\n",
    "#ranked_managers_ixes = ~unranked_managers_ixes\n",
    "#mean_values = temp.loc[ranked_managers_ixes, ['high_frac','low_frac', 'medium_frac','manager_skill']].mean()\n",
    "#temp.loc[unranked_managers_ixes,['high_frac','low_frac', 'medium_frac','manager_skill']] = mean_values.values\n",
    "#train_df17 = train_df17.merge(temp.reset_index(),how='left', left_on='manager_id', right_on='manager_id')\n",
    "train_df17.head()\n",
    "del train_df17['lat*long']"
   ]
  },
  {
   "cell_type": "code",
   "execution_count": null,
   "metadata": {
    "collapsed": false
   },
   "outputs": [],
   "source": []
  },
  {
   "cell_type": "markdown",
   "metadata": {},
   "source": [
    "#### Get the input/output matrices"
   ]
  },
  {
   "cell_type": "code",
   "execution_count": 29,
   "metadata": {
    "collapsed": false
   },
   "outputs": [
    {
     "data": {
      "text/plain": [
       "(49256, 8)"
      ]
     },
     "execution_count": 29,
     "metadata": {},
     "output_type": "execute_result"
    }
   ],
   "source": [
    "use_columns = ['bathrooms', 'bedrooms', 'latitude', 'longitude', 'price', 'date_group', 'features_number', 'photos_number']\n",
    "X_df = train_df17.loc[:, use_columns]\n",
    "X_mat = X_df.as_matrix()\n",
    "X_mat.shape"
   ]
  },
  {
   "cell_type": "code",
   "execution_count": 30,
   "metadata": {
    "collapsed": false
   },
   "outputs": [
    {
     "data": {
      "text/plain": [
       "(49256,)"
      ]
     },
     "execution_count": 30,
     "metadata": {},
     "output_type": "execute_result"
    }
   ],
   "source": [
    "Y_df = pd.DataFrame(train_df17.loc[:, 'interest_level'])\n",
    "Y_df['interest'] = [0 if x=='low' else(1 if x=='medium' else(2)) for x in Y_df.interest_level]\n",
    "Y_mat = Y_df.interest.as_matrix()\n",
    "Y_mat.shape"
   ]
  },
  {
   "cell_type": "markdown",
   "metadata": {},
   "source": [
    "#### SVM"
   ]
  },
  {
   "cell_type": "code",
   "execution_count": null,
   "metadata": {
    "collapsed": true
   },
   "outputs": [],
   "source": [
    "from sklearn import svm"
   ]
  },
  {
   "cell_type": "code",
   "execution_count": 44,
   "metadata": {
    "collapsed": false
   },
   "outputs": [],
   "source": [
    "svm = svm.SVC(probability=True)\n",
    "\n",
    "from sklearn.model_selection import train_test_split\n",
    "X_train, X_val, y_train, y_val = train_test_split(X_mat, Y_mat, test_size=0.25)"
   ]
  },
  {
   "cell_type": "code",
   "execution_count": 45,
   "metadata": {
    "collapsed": false
   },
   "outputs": [],
   "source": [
    "import sklearn.grid_search as gs\n",
    "grid_para_svm = [{'C': [1, 10, 100, 1000], 'kernel': ['poly'], 'degree': [1, 2, 3]}, \\\n",
    "                 {'C': [1, 10, 100, 1000], 'gamma': [0.001, 0.0001], 'kernel': ['rbf']}]"
   ]
  },
  {
   "cell_type": "code",
   "execution_count": 46,
   "metadata": {
    "collapsed": true
   },
   "outputs": [],
   "source": [
    "grid_search_svm = gs.GridSearchCV(svm, grid_para_svm, scoring = 'accuracy', cv=3)"
   ]
  },
  {
   "cell_type": "code",
   "execution_count": null,
   "metadata": {
    "collapsed": true
   },
   "outputs": [],
   "source": [
    "grid_search_svm.fit(X_train, y_train)"
   ]
  },
  {
   "cell_type": "code",
   "execution_count": 33,
   "metadata": {
    "collapsed": false
   },
   "outputs": [
    {
     "data": {
      "text/plain": [
       "0.74685317524768557"
      ]
     },
     "execution_count": 33,
     "metadata": {},
     "output_type": "execute_result"
    }
   ],
   "source": [
    "svc.fit(X_train, Y_train)"
   ]
  },
  {
   "cell_type": "code",
   "execution_count": 34,
   "metadata": {
    "collapsed": true
   },
   "outputs": [],
   "source": [
    "svc.score(X_train, Y_train)"
   ]
  },
  {
   "cell_type": "code",
   "execution_count": 38,
   "metadata": {
    "collapsed": false
   },
   "outputs": [],
   "source": [
    "y_val_pred = svc.predict_proba(X_mat)\n"
   ]
  },
  {
   "cell_type": "code",
   "execution_count": 39,
   "metadata": {
    "collapsed": false
   },
   "outputs": [
    {
     "data": {
      "text/plain": [
       "0.67628878054164376"
      ]
     },
     "execution_count": 39,
     "metadata": {},
     "output_type": "execute_result"
    }
   ],
   "source": [
    "from sklearn.metrics import log_loss\n",
    "log_loss(Y_mat, y_val_pred)"
   ]
  },
  {
   "cell_type": "code",
   "execution_count": null,
   "metadata": {
    "collapsed": true
   },
   "outputs": [],
   "source": []
  }
 ],
 "metadata": {
  "anaconda-cloud": {},
  "kernelspec": {
   "display_name": "Python [default]",
   "language": "python",
   "name": "python2"
  },
  "language_info": {
   "codemirror_mode": {
    "name": "ipython",
    "version": 2
   },
   "file_extension": ".py",
   "mimetype": "text/x-python",
   "name": "python",
   "nbconvert_exporter": "python",
   "pygments_lexer": "ipython2",
   "version": "2.7.13"
  }
 },
 "nbformat": 4,
 "nbformat_minor": 1
}
